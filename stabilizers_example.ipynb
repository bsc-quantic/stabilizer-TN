{
 "cells": [
  {
   "cell_type": "markdown",
   "metadata": {},
   "source": [
    "# How to use"
   ]
  },
  {
   "cell_type": "markdown",
   "metadata": {},
   "source": [
    "## Instructions"
   ]
  },
  {
   "cell_type": "markdown",
   "metadata": {},
   "source": [
    "Qiskit's tableau simulations can be initialized from a Clifford circuit ```qc``` created with ```QuantumCircuit``` just by using the class Clifford as:\n",
    "```\n",
    "Clifford(qc)\n",
    "```\n",
    "Similarly, after importing our functions from ```stabilizers.py```, we can use the class gen_clifford:\n",
    "```\n",
    "stab_TN = gen_clifford(qc)\n",
    "```\n",
    "And we can later add non-Clifford gates ```qc_nonC``` to the circuit with our version of the method ```compose```:\n",
    "```\n",
    "stab_TN.compose(qc_nonC)\n",
    "```\n",
    "Since the initialization of the gen_clifford class goes through Qiskit's internal checks, it's better to do the initalization with a Clifford circuit (such as an empty circuit) and add the rest of the gates (Clifford or non-Clifford) with ```compose```. This offers no computational disadvantage to initializing directly. For example:\n",
    "```\n",
    "qc = QuantumCircuit(n_qubits)\n",
    "qc = function_that_adds_all_gates(qc)\n",
    "stab_TN = gen_clifford(QuantumCircuit(n_qubits)).compose(qc)\n",
    "```\n",
    "Measurements of qubits on a Qiskit circuit can be used without issues. In addition, one can measure an observable (as long as the amount of qubits fits the circuit) directly with the method ```measure_obs```\n",
    "```\n",
    "ev_check = 'IZZIXIY'\n",
    "stab_TN.measure_obs(ev_check) \n",
    "```"
   ]
  },
  {
   "cell_type": "markdown",
   "metadata": {},
   "source": [
    "### Toy model"
   ]
  },
  {
   "cell_type": "markdown",
   "metadata": {},
   "source": [
    "#### Clifford class"
   ]
  },
  {
   "cell_type": "code",
   "execution_count": 1,
   "metadata": {},
   "outputs": [
    {
     "name": "stdout",
     "output_type": "stream",
     "text": [
      "Clifford: Stabilizer = ['+XX', '+ZZ'], Destabilizer = ['+IZ', '+XI']\n",
      "['+IZ', '+XI']\n",
      "['+XX', '+ZZ']\n"
     ]
    }
   ],
   "source": [
    "# Qiskit's Clifford class (see https://docs.quantum.ibm.com/api/qiskit/qiskit.quantum_info.Clifford) can be used as follows (adapted from the same reference)\n",
    "from qiskit import QuantumCircuit\n",
    "from qiskit.quantum_info import Clifford\n",
    "from qiskit.circuit.library import ZGate\n",
    "\n",
    "# Create a circuit\n",
    "qc = QuantumCircuit(2)\n",
    "\n",
    "# Add only Clifford gates\n",
    "# For example, these states generate the bell state, which is a stabilizer state\n",
    "qc.h(0)\n",
    "qc.cx(0, 1)\n",
    "\n",
    "# Initialize the Clifford class with the circuit\n",
    "cliff = Clifford(qc)\n",
    "\n",
    "# This class stores a tableau equivalent to the clifford circuit. It returns:\n",
    "print(cliff)\n",
    "# You can also print only the destabilizer rows...\n",
    "print(cliff.to_labels(mode=\"D\"))\n",
    "# or the stabilizer rows.\n",
    "print(cliff.to_labels(mode=\"S\"))"
   ]
  },
  {
   "cell_type": "code",
   "execution_count": 2,
   "metadata": {},
   "outputs": [
    {
     "name": "stdout",
     "output_type": "stream",
     "text": [
      "Clifford from tableau\n",
      "Clifford: Stabilizer = ['+XX', '+ZZ'], Destabilizer = ['+IZ', '+XI']\n"
     ]
    }
   ],
   "source": [
    "# It also admits initialization with tableaus (which you can extract from a different Clifford object...\n",
    "cliff_tableau = Clifford(cliff)\n",
    "print('Clifford from tableau')\n",
    "print(cliff_tableau)"
   ]
  },
  {
   "cell_type": "code",
   "execution_count": 3,
   "metadata": {},
   "outputs": [
    {
     "name": "stdout",
     "output_type": "stream",
     "text": [
      "Clifford do-it-yourself\n",
      "Clifford: Stabilizer = ['+XX', '+ZZ'], Destabilizer = ['+IZ', '+XI']\n"
     ]
    }
   ],
   "source": [
    "# or construct yourself.\n",
    "tableau = [[0,0,1,0,0],[0,1,0,0,0],[1,1,0,0,0,],[0,0,1,1,0,]]\n",
    "cliff_diy = Clifford(tableau)\n",
    "print('Clifford do-it-yourself')\n",
    "print(cliff_diy)"
   ]
  },
  {
   "cell_type": "code",
   "execution_count": 4,
   "metadata": {},
   "outputs": [
    {
     "name": "stdout",
     "output_type": "stream",
     "text": [
      "Clifford after adding gate\n",
      "Clifford: Stabilizer = ['-XX', '+ZZ'], Destabilizer = ['+IZ', '+XI']\n"
     ]
    }
   ],
   "source": [
    "# One can add further gates to the circuit in Clifford afterwards with compose, using the gates themselves...\n",
    "cliff = cliff.compose(ZGate(),[0])\n",
    "print('Clifford after adding gate')\n",
    "print(cliff)"
   ]
  },
  {
   "cell_type": "code",
   "execution_count": 5,
   "metadata": {},
   "outputs": [
    {
     "name": "stdout",
     "output_type": "stream",
     "text": [
      "Clifford after adding circuit\n",
      "Clifford: Stabilizer = ['+XX', '+ZZ'], Destabilizer = ['+IZ', '-XI']\n"
     ]
    }
   ],
   "source": [
    "# or entire new circuits\n",
    "new_circ = QuantumCircuit(2)\n",
    "new_circ.z([1])\n",
    "cliff = cliff.compose(new_circ)\n",
    "print('Clifford after adding circuit')\n",
    "print(cliff)"
   ]
  },
  {
   "cell_type": "code",
   "execution_count": 6,
   "metadata": {},
   "outputs": [
    {
     "name": "stdout",
     "output_type": "stream",
     "text": [
      "We did not save the modification, so instead of undoing the previous gate, this clifford is the same as above\n",
      "Clifford: Stabilizer = ['+XX', '+ZZ'], Destabilizer = ['+IZ', '-XI']\n"
     ]
    }
   ],
   "source": [
    "# Beware that the modification does not happen in place! Without keeping the return we don't change the object\n",
    "cliff.compose(ZGate(),[0])\n",
    "print('We did not save the modification, so instead of undoing the previous gate, this clifford is the same as above')\n",
    "print(cliff)\n",
    "# This is different for our gen_clifford class below. Modifications with compose happen in place because it's the main way in which we process a circuit"
   ]
  },
  {
   "cell_type": "markdown",
   "metadata": {},
   "source": [
    "#### Generalized Clifford class"
   ]
  },
  {
   "cell_type": "code",
   "execution_count": 1,
   "metadata": {},
   "outputs": [
    {
     "name": "stderr",
     "output_type": "stream",
     "text": [
      "c:\\Users\\Sergi\\miniconda3\\envs\\stab\\Lib\\site-packages\\cotengra\\hyperoptimizers\\hyper.py:57: UserWarning: Couldn't find `optuna`, `cmaes`, or `nevergrad` so will use completely random sampling in place of hyper-optimization.\n",
      "  warnings.warn(\n",
      "c:\\Users\\Sergi\\miniconda3\\envs\\stab\\Lib\\site-packages\\cotengra\\hyperoptimizers\\hyper.py:39: UserWarning: Couldn't import `kahypar` - skipping from default hyper optimizer and using basic `labels` method instead.\n",
      "  warnings.warn(\n",
      "c:\\Users\\Sergi\\miniconda3\\envs\\stab\\Lib\\site-packages\\cotengra\\hyperoptimizers\\hyper.py:76: UserWarning: Couldn't find `optuna`, `cmaes`, or `nevergrad` so will use completely random sampling in place of hyper-optimization.\n",
      "  warnings.warn(\n"
     ]
    },
    {
     "name": "stdout",
     "output_type": "stream",
     "text": [
      "To keep the public release lightweight, we did not upload the 3 qubit clifford matrices. If needed, get in contact with the author.\n",
      "Clifford: Stabilizer = ['+XX', '+ZZ'], Destabilizer = ['+IZ', '+XI']\n",
      "MatrixProductState([\n",
      "    Tensor(shape=(1, 2), inds=('_25ec6aAAAAB', 'k0'), tags=oset(['I0'])),\n",
      "    Tensor(shape=(1, 2), inds=('_25ec6aAAAAB', 'k1'), tags=oset(['I1'])),\n",
      "], tensors=2, indices=3, L=2, max_bond=1)\n"
     ]
    }
   ],
   "source": [
    "# We adapt the class to accept non-clifford transformations into gen_clifford in stabilizers.py\n",
    "from stabilizers import *\n",
    "from qiskit.circuit.library import RZGate, HGate, CXGate\n",
    "\n",
    "# We can initialize in the same way\n",
    "qc = QuantumCircuit(2)\n",
    "qc.h(0)\n",
    "qc.cx(0, 1)\n",
    "# but with gen_clifford\n",
    "gcliff = gen_clifford(qc)\n",
    "\n",
    "# This class also stores a tableau and it can be accessed in the same way as with Clifford class\n",
    "print(gcliff)\n",
    "# But now in \"xvec\" it also has a tensor network in MPS form to keep the coefficients of a superposition of stabilizer states\n",
    "print(gcliff.xvec)"
   ]
  },
  {
   "cell_type": "code",
   "execution_count": 2,
   "metadata": {},
   "outputs": [
    {
     "name": "stdout",
     "output_type": "stream",
     "text": [
      "MatrixProductState([\n",
      "    Tensor(shape=(1, 2), inds=('_25ec6aAAAAD', 'k0'), tags=oset(['I0'])),\n",
      "    Tensor(shape=(1, 1, 2), inds=('_25ec6aAAAAD', '_25ec6aAAAAE', 'k1'), tags=oset(['I1']), left_inds=('_25ec6aAAAAE', 'k1')),\n",
      "    Tensor(shape=(1, 2), inds=('_25ec6aAAAAE', 'k2'), tags=oset(['I2']), left_inds=('k2',)),\n",
      "], tensors=3, indices=5, L=3, max_bond=1)\n",
      "Clifford: Stabilizer = ['+IIZ', '+IXI', '+XII'], Destabilizer = ['+XXX', '+IZZ', '+ZIZ']\n"
     ]
    },
    {
     "name": "stderr",
     "output_type": "stream",
     "text": [
      "c:\\Users\\Sergi\\miniconda3\\envs\\stab\\Lib\\site-packages\\quimb\\gen\\operators.py:198: ComplexWarning: Casting complex values to real discards the imaginary part\n",
      "  R = math.cos(phi / 2) * pauli('I') - 1.0j * math.sin(phi / 2) * pauli(xyz)\n"
     ]
    }
   ],
   "source": [
    "# It admits the same initialization as Clifford.\n",
    "# In fact, to keep the same __init__ procedure, we initialize always with clifford circuits and add non-clifford circuits later with compose. We can do so easily with an empty circuit.\n",
    "stabTN = gen_clifford(QuantumCircuit(3), disentangle=False)\n",
    "\n",
    "# Now we can add as many gates as we want, clifford or non-clifford, although the bond dimension of xvec might grow.\n",
    "# Non-clifford gates modify xvec, stored in MPS form\n",
    "stabTN.compose(RZGate(np.pi/8),[0])\n",
    "stabTN.compose(RZGate(np.pi/8),[1])\n",
    "stabTN.compose(RZGate(np.pi/8),[2])\n",
    "print(stabTN.xvec)\n",
    "\n",
    "# While Clifford gates modify the tableau\n",
    "stabTN.compose(HGate(),[0])\n",
    "stabTN.compose(CXGate(),[0,1])\n",
    "stabTN.compose(CXGate(),[0,2])\n",
    "print(stabTN)"
   ]
  },
  {
   "cell_type": "code",
   "execution_count": 3,
   "metadata": {},
   "outputs": [
    {
     "name": "stdout",
     "output_type": "stream",
     "text": [
      "Current bond dimension is 1\n",
      "After a T gate, bond dimension is 2\n"
     ]
    }
   ],
   "source": [
    "# Notice that some local gates after the tableau is non-trivial increase entanglement in the MPS\n",
    "print(f\"Current bond dimension is {stabTN.xvec.max_bond()}\")\n",
    "stabTN.compose(RZGate(np.pi/8),[2])\n",
    "print(f\"After a T gate, bond dimension is {stabTN.xvec.max_bond()}\")"
   ]
  },
  {
   "cell_type": "code",
   "execution_count": 4,
   "metadata": {},
   "outputs": [
    {
     "name": "stdout",
     "output_type": "stream",
     "text": [
      "Current bond dimension is 1\n"
     ]
    }
   ],
   "source": [
    "# If we want to limit it, we can use the following method\n",
    "stabTN.reduce_bond_dim(max_bond=1)\n",
    "print(f\"Current bond dimension is {stabTN.xvec.max_bond()}\")\n",
    "# bond_dim is None by default, in which case quimb does not truncate"
   ]
  },
  {
   "cell_type": "code",
   "execution_count": 5,
   "metadata": {},
   "outputs": [
    {
     "name": "stdout",
     "output_type": "stream",
     "text": [
      "Current bond dimension is 1\n"
     ]
    }
   ],
   "source": [
    "# We can also initialize it from the start so that it is kept during all the process\n",
    "stabTN = gen_clifford(QuantumCircuit(3), max_bond=1, disentangle=False)\n",
    "\n",
    "# We apply the same gates as before\n",
    "stabTN.compose(RZGate(np.pi/8),[0])\n",
    "stabTN.compose(RZGate(np.pi/8),[1])\n",
    "stabTN.compose(RZGate(np.pi/8),[2])\n",
    "stabTN.compose(HGate(),[0])\n",
    "stabTN.compose(CXGate(),[0,1])\n",
    "stabTN.compose(CXGate(),[0,2])\n",
    "stabTN.compose(RZGate(np.pi/8),[2])\n",
    "\n",
    "# And the bond dimension never raised to 2\n",
    "print(f\"Current bond dimension is {stabTN.xvec.max_bond()}\")"
   ]
  },
  {
   "cell_type": "code",
   "execution_count": 6,
   "metadata": {},
   "outputs": [
    {
     "name": "stdout",
     "output_type": "stream",
     "text": [
      "MatrixProductState([\n",
      "    Tensor(shape=(1, 2), inds=('_25ec6aAAABD', 'k0'), tags=oset(['I0'])),\n",
      "    Tensor(shape=(1, 1, 2), inds=('_25ec6aAAABD', '_25ec6aAAABE', 'k1'), tags=oset(['I1']), left_inds=('_25ec6aAAABE', 'k1')),\n",
      "    Tensor(shape=(1, 2), inds=('_25ec6aAAABE', 'k2'), tags=oset(['I2']), left_inds=('k2',)),\n",
      "], tensors=3, indices=5, L=3, max_bond=1)\n",
      "Clifford: Stabilizer = ['+IIZ', '+IZZ', '+ZIZ'], Destabilizer = ['+XXX', '+IXI', '+XII']\n"
     ]
    }
   ],
   "source": [
    "# We can also compose with a circuit like before\n",
    "qc = QuantumCircuit(3)\n",
    "qc.rx(np.pi/8,[0])\n",
    "qc.cx(0,1)\n",
    "qc.cx(0,2)\n",
    "stabTN_circ = gen_clifford(QuantumCircuit(3), disentangle=False).compose(qc)\n",
    "# With the same results\n",
    "print(stabTN_circ.xvec)\n",
    "print(stabTN_circ)"
   ]
  },
  {
   "cell_type": "code",
   "execution_count": 7,
   "metadata": {},
   "outputs": [
    {
     "name": "stdout",
     "output_type": "stream",
     "text": [
      "{'reg': 0, 'stats': ((0.9619397662556434+0j), (0.03806023374435663+0j)), 'ev': (0.9238795325112867+0j)}\n",
      "{'reg': 0, 'stats': ((0.9619397662556434+0j), (0.03806023374435663+0j)), 'ev': (0.9238795325112867+0j)}\n",
      "{'reg': 1, 'stats': ((0.9619397662556434+0j), (0.03806023374435663+0j)), 'ev': (0.9238795325112867+0j)}\n"
     ]
    }
   ],
   "source": [
    "# At the end we can measure without projection (if we want to measure non-commuting observables without losing the state we prepared)\n",
    "print(stabTN_circ.measure('ZII'))\n",
    "# We can give a tag if we want to remember this measurement with a specific name\n",
    "print(stabTN_circ.measure('IZI', tag='middle Z'))\n",
    "# Otherwise it's just stored as the pauli string and a number n for being the nth measurement in the computation\n",
    "print(stabTN_circ.measure('IIZ'))"
   ]
  },
  {
   "cell_type": "code",
   "execution_count": 8,
   "metadata": {},
   "outputs": [
    {
     "name": "stdout",
     "output_type": "stream",
     "text": [
      "Projecting state onto measured observable\n",
      "{'reg': 1, 'stats': ((0.5+0j), (0.5+0j)), 'ev': 0j}\n",
      "Observable IXI after the measurement:\n",
      "{'reg': 1, 'stats': (0j, (1+0j)), 'ev': (-1+0j)}\n"
     ]
    }
   ],
   "source": [
    "# And also with projection (if we want to continue processing a circuit realistically after the measurement)\n",
    "print(stabTN_circ.measure('IXI',project=True))\n",
    "# After the projection, the EV changes and the outcome is fixed\n",
    "print('Observable IXI after the measurement:')\n",
    "print(stabTN_circ.measure('IXI'))"
   ]
  },
  {
   "cell_type": "code",
   "execution_count": 9,
   "metadata": {},
   "outputs": [
    {
     "data": {
      "text/plain": [
       "{'ZII_0': {'reg': 0,\n",
       "  'stats': ((0.9619397662556434+0j), (0.03806023374435663+0j)),\n",
       "  'ev': (0.9238795325112867+0j)},\n",
       " 'middle Z': {'reg': 0,\n",
       "  'stats': ((0.9619397662556434+0j), (0.03806023374435663+0j)),\n",
       "  'ev': (0.9238795325112867+0j)},\n",
       " 'IIZ_2': {'reg': 1,\n",
       "  'stats': ((0.9619397662556434+0j), (0.03806023374435663+0j)),\n",
       "  'ev': (0.9238795325112867+0j)},\n",
       " 'IXI_3': {'reg': 1, 'stats': ((0.5+0j), (0.5+0j)), 'ev': 0j},\n",
       " 'IXI_4': {'reg': 1, 'stats': (0j, (1+0j)), 'ev': (-1+0j)}}"
      ]
     },
     "execution_count": 9,
     "metadata": {},
     "output_type": "execute_result"
    }
   ],
   "source": [
    "# In both cases the expected value is calculated first and the result is sampled accordingly. The results are stored in .results\n",
    "stabTN_circ.results"
   ]
  },
  {
   "cell_type": "markdown",
   "metadata": {},
   "source": [
    "### Other methods"
   ]
  },
  {
   "cell_type": "markdown",
   "metadata": {},
   "source": [
    "#### Disentangling"
   ]
  },
  {
   "cell_type": "code",
   "execution_count": 10,
   "metadata": {},
   "outputs": [
    {
     "name": "stdout",
     "output_type": "stream",
     "text": [
      "stabTN_ent has bond dim=2"
     ]
    },
    {
     "name": "stdout",
     "output_type": "stream",
     "text": [
      "\n",
      "stabTN has bond dim=1\n"
     ]
    }
   ],
   "source": [
    "'''\n",
    "We implemented a few disentangling methods (uses \"exact\" by default)\n",
    "    - Exact: Rearrange the rotation applied to the MPS (after commuting with the clifford circuit) so it doesn't entangle at all if there's an unused stabilizer state in Xvec. Works up to #n T-gates almost always.\n",
    "            See also: apply_xvec_rotation\n",
    "            Follows: arxiv:2412.17209\n",
    "    - Heuristic (3): Sweep Xvec to look for disentangling operations by trying all possible 2 (3) clifford entangling gates (Expensive with 2, extremely expensive with 3) \n",
    "            See also: automatic_disentangle, reduce_entanglement\n",
    "            Follows: arxiv:2407.01692\n",
    "    - Exact+heuristic: Use both methods above. Statistically, heuristic does not kick in until after #n T-gates. (Less expensive than Heuristic due to less burden in the first gates)\n",
    "'''\n",
    "\n",
    "# This can be setup as an argument when beginning the computation:\n",
    "\n",
    "# Prepare a circuit that is entangled and not clifford\n",
    "qc = QuantumCircuit(3)\n",
    "qc.h(0)\n",
    "qc.cx(0,1)\n",
    "qc.cx(0,2)\n",
    "qc.rz(np.pi/4,1)\n",
    "# qc.rz(np.pi/4,2)\n",
    "\n",
    "# Let's run a version without disentangling\n",
    "stabTN_ent = gen_clifford(QuantumCircuit(3), disentangle=False)\n",
    "stabTN_ent.compose(qc)\n",
    "print(f\"stabTN_ent has bond dim={stabTN_ent.xvec.max_bond()}\")\n",
    "\n",
    "# Compared to a version with disentangling methods\n",
    "stabTN = gen_clifford(QuantumCircuit(3), disentangle='exact+heuristic')\n",
    "stabTN.compose(qc)\n",
    "stabTN.xvec.max_bond()\n",
    "print(f\"stabTN has bond dim={stabTN.xvec.max_bond()}\")"
   ]
  },
  {
   "cell_type": "code",
   "execution_count": 11,
   "metadata": {},
   "outputs": [
    {
     "name": "stdout",
     "output_type": "stream",
     "text": [
      "stabTN_ent now has bond dim=1\n"
     ]
    }
   ],
   "source": [
    "# We can also call the heuristic method \n",
    "stabTN_ent.automatic_disentangle()\n",
    "print(f\"stabTN_ent now has bond dim={stabTN_ent.xvec.max_bond()}\")\n",
    "\n",
    "# Notice that if \"heuristic\" is activated, the method is called after each gate (unless it's already disentangled)\n",
    "# By disabling it and calling the method above manually, one can disentangle only after the gates they want"
   ]
  },
  {
   "cell_type": "markdown",
   "metadata": {},
   "source": [
    "#### Converting to full MPS (with trivial tableau)"
   ]
  },
  {
   "cell_type": "code",
   "execution_count": 16,
   "metadata": {},
   "outputs": [
    {
     "data": {
      "text/html": [
       "<samp style='font-size: 12px;'><details><summary><b style=\"color: #d75692;\">MatrixProductState</b>(tensors=3, indices=5, L=3, max_bond=2)</summary><samp style='font-size: 12px;'><details><summary><b style=\"color: #e55471;\">Tensor</b>(shape=(<b style=\"color: #828fdd;\">2</b>, <b style=\"color: #828fdd;\">2</b>), inds=[<b style=\"color: #e4aa9b;\">_25ec6aAAABp</b>, <b style=\"color: #b1dc61;\">k0</b>], tags={<b style=\"color: #d2b137;\">I0</b>, <b style=\"color: #d3b991;\">PSI0</b>, <b style=\"color: #d2b45d;\">GATE_0</b>, <b style=\"color: #da8f93;\">S</b>, <b style=\"color: #bade88;\">GATE_6</b>, <b style=\"color: #8090d8;\">SDG</b>, <b style=\"color: #da9170;\">GATE_7</b>, <b style=\"color: #a17ee2;\">H</b>, <b style=\"color: #ce6acd;\">Z</b>, <b style=\"color: #40c3d8;\">GATE_1</b>, <b style=\"color: #64dc8a;\">GATE_2</b>, <b style=\"color: #4fe13d;\">GATE_21</b>, <b style=\"color: #a58ad0;\">GATE_22</b>, <b style=\"color: #d4d081;\">GATE_26</b>, <b style=\"color: #3acbd2;\">GATE_27</b>}),</summary>backend=<b style=\"color: #7fdd73;\">numpy</b>, dtype=<b style=\"color: #443ce1;\">complex128</b>, data=array([[-7.07106781e-01+2.77555756e-17j, -1.55422272e-17-7.07106781e-01j],\n",
       "       [-6.46162343e-01+2.87183263e-01j,  2.87183263e-01+6.46162343e-01j]])</details></samp><samp style='font-size: 12px;'><details><summary><b style=\"color: #e55471;\">Tensor</b>(shape=(<b style=\"color: #828fdd;\">2</b>, <b style=\"color: #828fdd;\">2</b>, <b style=\"color: #828fdd;\">2</b>), inds=[<b style=\"color: #e4aa9b;\">_25ec6aAAABp</b>, <b style=\"color: #6fb8e0;\">_25ec6aAAABq</b>, <b style=\"color: #8aa5db;\">k1</b>], tags={<b style=\"color: #d19b78;\">I1</b>, <b style=\"color: #d3b991;\">PSI0</b>, <b style=\"color: #40c3d8;\">GATE_1</b>, <b style=\"color: #8090d8;\">SDG</b>, <b style=\"color: #64dc8a;\">GATE_2</b>, <b style=\"color: #a17ee2;\">H</b>, <b style=\"color: #cc4280;\">GATE_4</b>, <b style=\"color: #c94ace;\">GATE_5</b>, <b style=\"color: #da8f93;\">S</b>, <b style=\"color: #394bd1;\">GATE_3</b>, <b style=\"color: #ce6acd;\">Z</b>, <b style=\"color: #3bd699;\">GATE_11</b>, <b style=\"color: #e3a694;\">GATE_12</b>, <b style=\"color: #d8e230;\">GATE_16</b>, <b style=\"color: #c6d85f;\">GATE_17</b>, <b style=\"color: #d1cd54;\">GATE_19</b>, <b style=\"color: #dfa87e;\">GATE_20</b>, <b style=\"color: #9fe3c6;\">GATE_24</b>, <b style=\"color: #56cf38;\">GATE_25</b>}),</summary>backend=<b style=\"color: #7fdd73;\">numpy</b>, dtype=<b style=\"color: #443ce1;\">complex128</b>, data=array([[[ 0.3073366 +0.17476903j,  0.09373943+0.34090016j],\n",
       "        [-0.32664074-0.13529903j,  0.13529903+0.32664074j]],\n",
       "\n",
       "       [[ 0.20986731+0.28452717j,  0.05279249-0.34958969j],\n",
       "        [-0.24353794-0.25629918j,  0.00902356-0.35343822j]]])</details></samp><samp style='font-size: 12px;'><details><summary><b style=\"color: #e55471;\">Tensor</b>(shape=(<b style=\"color: #828fdd;\">2</b>, <b style=\"color: #828fdd;\">2</b>), inds=[<b style=\"color: #6fb8e0;\">_25ec6aAAABq</b>, <b style=\"color: #df546d;\">k2</b>], tags={<b style=\"color: #dd5dd7;\">I2</b>, <b style=\"color: #d3b991;\">PSI0</b>, <b style=\"color: #bade88;\">GATE_6</b>, <b style=\"color: #a17ee2;\">H</b>, <b style=\"color: #da9170;\">GATE_7</b>, <b style=\"color: #da8f93;\">S</b>, <b style=\"color: #de70db;\">GATE_9</b>, <b style=\"color: #8090d8;\">SDG</b>, <b style=\"color: #d39d60;\">GATE_10</b>, <b style=\"color: #606bd4;\">GATE_14</b>, <b style=\"color: #71d75c;\">GATE_15</b>}),</summary>backend=<b style=\"color: #7fdd73;\">numpy</b>, dtype=<b style=\"color: #443ce1;\">complex128</b>, data=array([[-7.01646415e-01+8.77058019e-02j,  8.77058019e-02+7.01646415e-01j],\n",
       "       [ 7.07106781e-01-2.08166817e-17j,  9.36750677e-17+7.07106781e-01j]])</details></samp></details></samp>"
      ],
      "text/plain": [
       "MatrixProductState(tensors=3, indices=5, L=3, max_bond=2)"
      ]
     },
     "execution_count": 16,
     "metadata": {},
     "output_type": "execute_result"
    }
   ],
   "source": [
    "# We can transform the tableau into Clifford gates with Qiskit's methods and absorb them one by one into the MPS with\n",
    "stabTN.compress_clifford(inplace=True)\n",
    "# If we only want to check the result, the default method \"inplace=False\" returns a copy with the compression and leaves the original unchanged\n",
    "\n",
    "# Notice how it regained the entanglement that we had extracted\n",
    "stabTN.xvec"
   ]
  },
  {
   "cell_type": "code",
   "execution_count": 17,
   "metadata": {},
   "outputs": [
    {
     "name": "stdout",
     "output_type": "stream",
     "text": [
      "Clifford: Stabilizer = ['+IIZ', '+IZI', '+ZII'], Destabilizer = ['+IIX', '+IXI', '+XII']\n"
     ]
    }
   ],
   "source": [
    "# This also resets the tableau\n",
    "print(stabTN)\n"
   ]
  },
  {
   "cell_type": "code",
   "execution_count": 18,
   "metadata": {},
   "outputs": [
    {
     "name": "stdout",
     "output_type": "stream",
     "text": [
      "Clifford: Stabilizer = ['+IXI', '+XII', '-XXY'], Destabilizer = ['-IZZ', '-ZIZ', '+IIZ']\n",
      "MatrixProductState([\n",
      "    Tensor(shape=(1, 2), inds=('_25ec6aAAABp', 'k0'), tags=oset(['I0', 'PSI0', 'GATE_0', 'S', 'GATE_6', 'SDG', 'GATE_7', 'H', 'Z', 'GATE_1', 'GATE_2', 'GATE_21', 'GATE_22', 'GATE_26', 'GATE_27']), left_inds=('k0',)),\n",
      "    Tensor(shape=(1, 1, 2), inds=('_25ec6aAAABp', '_25ec6aAAABq', 'k1'), tags=oset(['I1', 'PSI0', 'GATE_1', 'SDG', 'GATE_2', 'H', 'GATE_4', 'GATE_5', 'S', 'GATE_3', 'Z', 'GATE_11', 'GATE_12', 'GATE_16', 'GATE_17', 'GATE_19', 'GATE_20', 'GATE_24', 'GATE_25'])),\n",
      "    Tensor(shape=(1, 2), inds=('_25ec6aAAABq', 'k2'), tags=oset(['I2', 'PSI0', 'GATE_6', 'H', 'GATE_7', 'S', 'GATE_9', 'SDG', 'GATE_10', 'GATE_14', 'GATE_15']), left_inds=('k2',)),\n",
      "], tensors=3, indices=5, L=3, max_bond=1)\n"
     ]
    }
   ],
   "source": [
    "# Running automatic_disentangle is usually able to extract most of the entanglement again into the tableau\n",
    "stabTN.automatic_disentangle()\n",
    "print(stabTN)\n",
    "print(stabTN.xvec)"
   ]
  },
  {
   "cell_type": "markdown",
   "metadata": {},
   "source": [
    "## Speed test"
   ]
  },
  {
   "cell_type": "markdown",
   "metadata": {},
   "source": [
    "Test speed of computation on a Clifford circuit\n",
    "If this goes as fast as Qiskit, then the sTN layer is not interfering"
   ]
  },
  {
   "cell_type": "code",
   "execution_count": null,
   "metadata": {},
   "outputs": [
    {
     "name": "stdout",
     "output_type": "stream",
     "text": [
      "For 5:\n",
      "1.5707963267948966\n",
      "Creating and composing...\n",
      "Measuring...\n",
      "IIIIIIIIIIIIIIIIIIIIIIIIIIIIIIIIIIIIIIIIIIIIIIIIIIIIIIIIIIIIIIZIIIIIIIIIIIIIIIIIIIIIIIIIIIIIIIIIIIIIIIIIIIIIIIIIIIIIIIIIIIIIIII\n",
      "{'reg': 0, 'stats': ((0.5+0j), (0.5+0j)), 'ev': (-0+0j)}\n",
      "Gate count=1355\n",
      "It took 1.1561884880065918 s\n",
      "For 10:\n",
      "1.5707963267948966\n",
      "Creating and composing...\n",
      "Measuring...\n",
      "IIIIIIIIIIIIIIIIIIIIIIIIIIIIIIIIIIIIIIIIIIIIIIIIIIIIIIIIIIIIIIZIIIIIIIIIIIIIIIIIIIIIIIIIIIIIIIIIIIIIIIIIIIIIIIIIIIIIIIIIIIIIIII\n",
      "{'reg': 1, 'stats': ((0.5+0j), (0.5+0j)), 'ev': (-0+0j)}\n",
      "Gate count=4065\n",
      "It took 3.2951831817626953 s\n",
      "For 20:\n",
      "1.5707963267948966\n",
      "Creating and composing...\n",
      "Measuring...\n",
      "IIIIIIIIIIIIIIIIIIIIIIIIIIIIIIIIIIIIIIIIIIIIIIIIIIIIIIIIIIIIIIZIIIIIIIIIIIIIIIIIIIIIIIIIIIIIIIIIIIIIIIIIIIIIIIIIIIIIIIIIIIIIIII\n",
      "{'reg': 0, 'stats': ((0.5+0j), (0.5+0j)), 'ev': 0j}\n",
      "Gate count=9485\n",
      "It took 5.462470769882202 s\n",
      "For 100:\n",
      "1.5707963267948966\n",
      "Creating and composing...\n",
      "Measuring...\n",
      "IIIIIIIIIIIIIIIIIIIIIIIIIIIIIIIIIIIIIIIIIIIIIIIIIIIIIIIIIIIIIIZIIIIIIIIIIIIIIIIIIIIIIIIIIIIIIIIIIIIIIIIIIIIIIIIIIIIIIIIIIIIIIII\n",
      "{'reg': 0, 'stats': ((0.5+0j), (0.5+0j)), 'ev': 0j}\n",
      "Gate count=36585\n",
      "It took 8.79501485824585 s\n"
     ]
    }
   ],
   "source": [
    "ev_checks = {\n",
    "    'z_min': 'I'*(62) + 'Z' + 'I'*(127-63),\n",
    "}\n",
    "\n",
    "mode = 'tn'\n",
    "max_bond = 128\n",
    "trotter_steps_list = [5,10,20,100]\n",
    "rot_angles = [np.pi/2] # this makes it a clifford circuit\n",
    "gate_count = 0\n",
    "results_trotter = {}\n",
    "\n",
    "max_qubits = 127\n",
    "qc_0 = QuantumCircuit(max_qubits,33)\n",
    "\n",
    "cx_instructions = connectivity_kyiv()\n",
    "\n",
    "for trotter_steps in trotter_steps_list:\n",
    "    print(f\"For {trotter_steps}:\")\n",
    "    for rot_angle in rot_angles:\n",
    "        print(rot_angle)\n",
    "        start = time()\n",
    "        qc = QuantumCircuit(max_qubits,32)\n",
    "        for _ in range(trotter_steps):\n",
    "            for qb in range(qc.num_qubits):\n",
    "                gate_count += 1\n",
    "                qc.rx(rot_angle,qb)\n",
    "            for conn in cx_instructions:\n",
    "                if conn[0]>=max_qubits or conn[1]>=max_qubits:\n",
    "                    print('skipped one')\n",
    "                    continue\n",
    "                qc.rzz(-np.pi/2,conn[0],conn[1])\n",
    "                gate_count += 1\n",
    "\n",
    "        for ev in ev_checks:\n",
    "            print('Creating and composing...')\n",
    "            test_temp = gen_clifford(qc_0,mode=mode,max_bond=max_bond).compose(qc)\n",
    "            print('Measuring...')\n",
    "            test_temp.measure_obs(ev_checks[ev])  \n",
    "\n",
    "            for t in test_temp.results:\n",
    "                print(t)\n",
    "                print(test_temp.results[t])\n",
    "        total_time = time() - start\n",
    "        results_trotter[gate_count] = total_time\n",
    "        print(f\"Gate count={gate_count}\")\n",
    "        print(f\"It took {total_time} s\")"
   ]
  },
  {
   "cell_type": "code",
   "execution_count": null,
   "metadata": {},
   "outputs": [],
   "source": [
    "from matplotlib import pyplot as plt"
   ]
  },
  {
   "cell_type": "code",
   "execution_count": null,
   "metadata": {},
   "outputs": [
    {
     "data": {
      "image/png": "[encoded data removed]",
      "text/plain": [
       "<Figure size 600x400 with 1 Axes>"
      ]
     },
     "metadata": {},
     "output_type": "display_data"
    }
   ],
   "source": [
    "plt.figure(figsize=(6,4))\n",
    "res = results_trotter\n",
    "plt.plot([k for k in res], [res[k] for k in res], label=f\"$\\chi={max_bond}$\")\n",
    "plt.ylabel(\"Time\")\n",
    "plt.xlabel(\"Gate quantity\")\n",
    "plt.legend()\n",
    "plt.tight_layout()\n",
    "plt.show()"
   ]
  },
  {
   "cell_type": "code",
   "execution_count": null,
   "metadata": {},
   "outputs": [
    {
     "data": {
      "image/png": "[encoded data removed]",
      "text/plain": [
       "<Figure size 600x400 with 1 Axes>"
      ]
     },
     "metadata": {},
     "output_type": "display_data"
    }
   ],
   "source": [
    "plt.figure(figsize=(6,4))\n",
    "res = results_trotter\n",
    "plt.plot([k for k in res], [res[k] for k in res], label=f\"$\\chi={max_bond}$\")\n",
    "plt.ylabel(\"Time\")\n",
    "plt.xlabel(\"Gate quantity\")\n",
    "plt.legend()\n",
    "plt.tight_layout()\n",
    "plt.show()"
   ]
  },
  {
   "cell_type": "markdown",
   "metadata": {},
   "source": [
    "The computation shouldn't get harder as we add more qubits"
   ]
  },
  {
   "cell_type": "code",
   "execution_count": null,
   "metadata": {},
   "outputs": [
    {
     "name": "stdout",
     "output_type": "stream",
     "text": [
      "For 16:\n",
      "Creating and composing...\n",
      "Measuring...\n",
      "Did not recognize format of observable to measure\n",
      "Gate count=16\n",
      "It took 0.05086398124694824 s\n",
      "For 32:\n",
      "Creating and composing...\n",
      "Measuring...\n",
      "Did not recognize format of observable to measure\n",
      "Gate count=32\n",
      "It took 0.04092907905578613 s\n",
      "For 48:\n",
      "Creating and composing...\n",
      "Measuring...\n",
      "Did not recognize format of observable to measure\n",
      "Gate count=48\n",
      "It took 0.05883479118347168 s\n",
      "For 64:\n",
      "Creating and composing...\n",
      "Measuring...\n",
      "Did not recognize format of observable to measure\n",
      "Gate count=64\n",
      "It took 0.07576704025268555 s\n",
      "For 80:\n",
      "Creating and composing...\n",
      "Measuring...\n",
      "Did not recognize format of observable to measure\n",
      "Gate count=80\n",
      "It took 0.2982032299041748 s\n",
      "For 96:\n",
      "Creating and composing...\n",
      "Measuring...\n",
      "Did not recognize format of observable to measure\n",
      "Gate count=96\n",
      "It took 0.11372208595275879 s\n",
      "For 112:\n",
      "Creating and composing...\n",
      "Measuring...\n",
      "Did not recognize format of observable to measure\n",
      "Gate count=112\n",
      "It took 0.1396021842956543 s\n",
      "For 127:\n",
      "Creating and composing...\n",
      "Measuring...\n",
      "IIIIIIIIIIIIIIIIIIIIIIIIIIIIIIIIIIIIIIIIIIIIIIIIIIIIIIIIIIIIIIIZIIIIIIIIIIIIIIIIIIIIIIIIIIIIIIIIIIIIIIIIIIIIIIIIIIIIIIIIIIIIIII\n",
      "{'reg': 1, 'stats': ((0.5+0j), (0.5+0j)), 'ev': -0j}\n",
      "Gate count=127\n",
      "It took 1.3085038661956787 s\n"
     ]
    }
   ],
   "source": [
    "mode = 'tn'\n",
    "max_bond = 128\n",
    "trotter_steps = 5\n",
    "rot_angles = [np.pi/2] # this makes it a clifford circuit\n",
    "gate_count = 0\n",
    "results_qbs = {}\n",
    "\n",
    "max_qubits_list = [16,32,48,64,80,96,112,127]\n",
    "qc_0 = QuantumCircuit(max_qubits,33)\n",
    "\n",
    "cx_instructions = connectivity_kyiv()\n",
    "\n",
    "for max_qubits in max_qubits_list:\n",
    "    ev_checks = {\n",
    "        'z_min': 'I'*(max_qubits//2) + 'Z' + 'I'*(max_qubits-(max_qubits//2+1)),\n",
    "    }\n",
    "\n",
    "    print(f\"For {max_qubits}:\")\n",
    "    for rot_angle in rot_angles:\n",
    "        start = time()\n",
    "        qc = QuantumCircuit(max_qubits,32)\n",
    "        for _ in range(trotter_steps):\n",
    "            for qb in range(qc.num_qubits):\n",
    "                gate_count += 1\n",
    "                qc.rx(rot_angle,qb)\n",
    "            for conn in cx_instructions:\n",
    "                if conn[0]>=max_qubits or conn[1]>=max_qubits:\n",
    "                    # print('skipped one')\n",
    "                    continue\n",
    "                qc.rzz(-np.pi/2,conn[0],conn[1])\n",
    "                gate_count += 1\n",
    "\n",
    "        for ev in ev_checks:\n",
    "            print('Creating and composing...')\n",
    "            test_temp = gen_clifford(qc_0,mode=mode,max_bond=max_bond).compose(qc)\n",
    "            print('Measuring...')\n",
    "            test_temp.measure_obs(ev_checks[ev])  \n",
    "\n",
    "            for t in test_temp.results:\n",
    "                print(t)\n",
    "                print(test_temp.results[t])\n",
    "        total_time = time() - start\n",
    "        results_qbs[gate_count] = total_time\n",
    "        print(f\"Gate count={max_qubits}\")\n",
    "        print(f\"It took {total_time} s\")"
   ]
  },
  {
   "cell_type": "code",
   "execution_count": null,
   "metadata": {},
   "outputs": [
    {
     "data": {
      "image/png": "[encoded data removed]",
      "text/plain": [
       "<Figure size 600x400 with 1 Axes>"
      ]
     },
     "metadata": {},
     "output_type": "display_data"
    }
   ],
   "source": [
    "plt.figure(figsize=(6,4))\n",
    "max_qubits_list = [16,32,48,64,80,96,112,127]\n",
    "res = results_qbs\n",
    "plt.plot([max_qubits_list[i] for i,_ in enumerate(res)], [10**5 * res[k]/k for k in res], label=f\"$\\chi={128}$\")\n",
    "plt.ylabel(\"Time per gate ($x 10^{-5}$)\")\n",
    "plt.xlabel(\"Qubits\")\n",
    "plt.legend()\n",
    "plt.tight_layout()\n",
    "plt.show()"
   ]
  },
  {
   "cell_type": "code",
   "execution_count": 81,
   "metadata": {},
   "outputs": [
    {
     "name": "stdout",
     "output_type": "stream",
     "text": [
      "Calculating with TN to compare...\n",
      "measuring\n",
      "TN gave (0.9548124788490103-9.915113570674663e-17j)\n"
     ]
    },
    {
     "data": {
      "text/html": [
       "<samp><details><summary><b style=\"color: #e589cf;\">TensorNetworkGenVector</b>(tensors=2202, indices=2922)</summary><samp><details><summary><b style=\"color: #e55471;\">Tensor</b>(shape=(<b style=\"color: #828fdd;\">2</b>), inds=[<b style=\"color: #7dc9db;\">_7535a3AAZNX</b>], tags={<b style=\"color: #d2b137;\">I0</b>, <b style=\"color: #d3b991;\">PSI0</b>}),</summary>backend=<b style=\"color: #7fdd73;\">numpy</b>, dtype=<b style=\"color: #443ce1;\">complex128</b>, data=array([1.+0.j, 0.+0.j])</details></samp><samp><details><summary><b style=\"color: #e55471;\">Tensor</b>(shape=(<b style=\"color: #828fdd;\">2</b>), inds=[<b style=\"color: #ce36c3;\">_7535a3AAZNY</b>], tags={<b style=\"color: #d19b78;\">I1</b>, <b style=\"color: #d3b991;\">PSI0</b>}),</summary>backend=<b style=\"color: #7fdd73;\">numpy</b>, dtype=<b style=\"color: #443ce1;\">complex128</b>, data=array([1.+0.j, 0.+0.j])</details></samp><samp><details><summary><b style=\"color: #e55471;\">Tensor</b>(shape=(<b style=\"color: #828fdd;\">2</b>), inds=[<b style=\"color: #80d9a6;\">_7535a3AAZNZ</b>], tags={<b style=\"color: #dd5dd7;\">I2</b>, <b style=\"color: #d3b991;\">PSI0</b>}),</summary>backend=<b style=\"color: #7fdd73;\">numpy</b>, dtype=<b style=\"color: #443ce1;\">complex128</b>, data=array([1.+0.j, 0.+0.j])</details></samp><samp><details><summary><b style=\"color: #e55471;\">Tensor</b>(shape=(<b style=\"color: #828fdd;\">2</b>), inds=[<b style=\"color: #8bcf6d;\">_7535a3AAZNa</b>], tags={<b style=\"color: #dd65d9;\">I3</b>, <b style=\"color: #d3b991;\">PSI0</b>}),</summary>backend=<b style=\"color: #7fdd73;\">numpy</b>, dtype=<b style=\"color: #443ce1;\">complex128</b>, data=array([1.+0.j, 0.+0.j])</details></samp><samp><details><summary><b style=\"color: #e55471;\">Tensor</b>(shape=(<b style=\"color: #828fdd;\">2</b>), inds=[<b style=\"color: #90cd8c;\">_7535a3AAZNb</b>], tags={<b style=\"color: #998ad1;\">I4</b>, <b style=\"color: #d3b991;\">PSI0</b>}),</summary>backend=<b style=\"color: #7fdd73;\">numpy</b>, dtype=<b style=\"color: #443ce1;\">complex128</b>, data=array([1.+0.j, 0.+0.j])</details></samp><samp><details><summary><b style=\"color: #e55471;\">Tensor</b>(shape=(<b style=\"color: #828fdd;\">2</b>), inds=[<b style=\"color: #60cddf;\">_7535a3AAZNc</b>], tags={<b style=\"color: #97dddc;\">I5</b>, <b style=\"color: #d3b991;\">PSI0</b>}),</summary>backend=<b style=\"color: #7fdd73;\">numpy</b>, dtype=<b style=\"color: #443ce1;\">complex128</b>, data=array([1.+0.j, 0.+0.j])</details></samp><samp><details><summary><b style=\"color: #e55471;\">Tensor</b>(shape=(<b style=\"color: #828fdd;\">2</b>), inds=[<b style=\"color: #837fd8;\">_7535a3AAZNd</b>], tags={<b style=\"color: #b2de5f;\">I6</b>, <b style=\"color: #d3b991;\">PSI0</b>}),</summary>backend=<b style=\"color: #7fdd73;\">numpy</b>, dtype=<b style=\"color: #443ce1;\">complex128</b>, data=array([1.+0.j, 0.+0.j])</details></samp><samp><details><summary><b style=\"color: #e55471;\">Tensor</b>(shape=(<b style=\"color: #828fdd;\">2</b>), inds=[<b style=\"color: #cd3f62;\">_7535a3AAZNe</b>], tags={<b style=\"color: #5582d6;\">I7</b>, <b style=\"color: #d3b991;\">PSI0</b>}),</summary>backend=<b style=\"color: #7fdd73;\">numpy</b>, dtype=<b style=\"color: #443ce1;\">complex128</b>, data=array([1.+0.j, 0.+0.j])</details></samp><samp><details><summary><b style=\"color: #e55471;\">Tensor</b>(shape=(<b style=\"color: #828fdd;\">2</b>), inds=[<b style=\"color: #b5dc5d;\">_7535a3AAZNf</b>], tags={<b style=\"color: #8a3dd8;\">I8</b>, <b style=\"color: #d3b991;\">PSI0</b>}),</summary>backend=<b style=\"color: #7fdd73;\">numpy</b>, dtype=<b style=\"color: #443ce1;\">complex128</b>, data=array([1.+0.j, 0.+0.j])</details></samp><samp><details><summary><b style=\"color: #e55471;\">Tensor</b>(shape=(<b style=\"color: #828fdd;\">2</b>), inds=[<b style=\"color: #a6d284;\">_7535a3AAZNg</b>], tags={<b style=\"color: #d74979;\">I9</b>, <b style=\"color: #d3b991;\">PSI0</b>}),</summary>backend=<b style=\"color: #7fdd73;\">numpy</b>, dtype=<b style=\"color: #443ce1;\">complex128</b>, data=array([1.+0.j, 0.+0.j])</details></samp><samp><details><summary><b style=\"color: #e55471;\">Tensor</b>(shape=(<b style=\"color: #828fdd;\">2</b>), inds=[<b style=\"color: #5b7bdc;\">_7535a3AAZNh</b>], tags={<b style=\"color: #4e2bd3;\">I10</b>, <b style=\"color: #d3b991;\">PSI0</b>}),</summary>backend=<b style=\"color: #7fdd73;\">numpy</b>, dtype=<b style=\"color: #443ce1;\">complex128</b>, data=array([1.+0.j, 0.+0.j])</details></samp><samp><details><summary><b style=\"color: #e55471;\">Tensor</b>(shape=(<b style=\"color: #828fdd;\">2</b>), inds=[<b style=\"color: #d3be80;\">_7535a3AAZNi</b>], tags={<b style=\"color: #cc3988;\">I11</b>, <b style=\"color: #d3b991;\">PSI0</b>}),</summary>backend=<b style=\"color: #7fdd73;\">numpy</b>, dtype=<b style=\"color: #443ce1;\">complex128</b>, data=array([1.+0.j, 0.+0.j])</details></samp><samp><details><summary><b style=\"color: #e55471;\">Tensor</b>(shape=(<b style=\"color: #828fdd;\">2</b>), inds=[<b style=\"color: #2dd12c;\">_7535a3AAZNj</b>], tags={<b style=\"color: #30a0d2;\">I12</b>, <b style=\"color: #d3b991;\">PSI0</b>}),</summary>backend=<b style=\"color: #7fdd73;\">numpy</b>, dtype=<b style=\"color: #443ce1;\">complex128</b>, data=array([1.+0.j, 0.+0.j])</details></samp><samp><details><summary><b style=\"color: #e55471;\">Tensor</b>(shape=(<b style=\"color: #828fdd;\">2</b>), inds=[<b style=\"color: #6970e0;\">_7535a3AAZNk</b>], tags={<b style=\"color: #59aad4;\">I13</b>, <b style=\"color: #d3b991;\">PSI0</b>}),</summary>backend=<b style=\"color: #7fdd73;\">numpy</b>, dtype=<b style=\"color: #443ce1;\">complex128</b>, data=array([1.+0.j, 0.+0.j])</details></samp><samp><details><summary><b style=\"color: #e55471;\">Tensor</b>(shape=(<b style=\"color: #828fdd;\">2</b>), inds=[<b style=\"color: #d87759;\">_7535a3AAZNl</b>], tags={<b style=\"color: #e4d13e;\">I14</b>, <b style=\"color: #d3b991;\">PSI0</b>}),</summary>backend=<b style=\"color: #7fdd73;\">numpy</b>, dtype=<b style=\"color: #443ce1;\">complex128</b>, data=array([1.+0.j, 0.+0.j])</details></samp><samp><details><summary><b style=\"color: #e55471;\">Tensor</b>(shape=(<b style=\"color: #828fdd;\">2</b>), inds=[<b style=\"color: #dfb36e;\">_7535a3AAZNm</b>], tags={<b style=\"color: #d54955;\">I15</b>, <b style=\"color: #d3b991;\">PSI0</b>}),</summary>backend=<b style=\"color: #7fdd73;\">numpy</b>, dtype=<b style=\"color: #443ce1;\">complex128</b>, data=array([1.+0.j, 0.+0.j])</details></samp><samp><details><summary><b style=\"color: #e55471;\">Tensor</b>(shape=(<b style=\"color: #828fdd;\">2</b>), inds=[<b style=\"color: #d7758e;\">_7535a3AAZNn</b>], tags={<b style=\"color: #d8af59;\">I16</b>, <b style=\"color: #d3b991;\">PSI0</b>}),</summary>backend=<b style=\"color: #7fdd73;\">numpy</b>, dtype=<b style=\"color: #443ce1;\">complex128</b>, data=array([1.+0.j, 0.+0.j])</details></samp><samp><details><summary><b style=\"color: #e55471;\">Tensor</b>(shape=(<b style=\"color: #828fdd;\">2</b>), inds=[<b style=\"color: #59d5a4;\">_7535a3AAZNo</b>], tags={<b style=\"color: #84a0d7;\">I17</b>, <b style=\"color: #d3b991;\">PSI0</b>}),</summary>backend=<b style=\"color: #7fdd73;\">numpy</b>, dtype=<b style=\"color: #443ce1;\">complex128</b>, data=array([1.+0.j, 0.+0.j])</details></samp><samp><details><summary><b style=\"color: #e55471;\">Tensor</b>(shape=(<b style=\"color: #828fdd;\">2</b>), inds=[<b style=\"color: #64de45;\">_7535a3AAZNp</b>], tags={<b style=\"color: #d360b6;\">I18</b>, <b style=\"color: #d3b991;\">PSI0</b>}),</summary>backend=<b style=\"color: #7fdd73;\">numpy</b>, dtype=<b style=\"color: #443ce1;\">complex128</b>, data=array([1.+0.j, 0.+0.j])</details></samp><samp><details><summary><b style=\"color: #e55471;\">Tensor</b>(shape=(<b style=\"color: #828fdd;\">2</b>), inds=[<b style=\"color: #ced349;\">_7535a3AAZNq</b>], tags={<b style=\"color: #90e14b;\">I19</b>, <b style=\"color: #d3b991;\">PSI0</b>}),</summary>backend=<b style=\"color: #7fdd73;\">numpy</b>, dtype=<b style=\"color: #443ce1;\">complex128</b>, data=array([1.+0.j, 0.+0.j])</details></samp><samp><details><summary><b style=\"color: #e55471;\">Tensor</b>(shape=(<b style=\"color: #828fdd;\">2</b>), inds=[<b style=\"color: #dc9b39;\">_7535a3AAZNr</b>], tags={<b style=\"color: #86cd64;\">I20</b>, <b style=\"color: #d3b991;\">PSI0</b>}),</summary>backend=<b style=\"color: #7fdd73;\">numpy</b>, dtype=<b style=\"color: #443ce1;\">complex128</b>, data=array([1.+0.j, 0.+0.j])</details></samp><samp><details><summary><b style=\"color: #e55471;\">Tensor</b>(shape=(<b style=\"color: #828fdd;\">2</b>), inds=[<b style=\"color: #4cd58f;\">_7535a3AAZNs</b>], tags={<b style=\"color: #d769c1;\">I21</b>, <b style=\"color: #d3b991;\">PSI0</b>}),</summary>backend=<b style=\"color: #7fdd73;\">numpy</b>, dtype=<b style=\"color: #443ce1;\">complex128</b>, data=array([1.+0.j, 0.+0.j])</details></samp><samp><details><summary><b style=\"color: #e55471;\">Tensor</b>(shape=(<b style=\"color: #828fdd;\">2</b>), inds=[<b style=\"color: #85d6d7;\">_7535a3AAZNt</b>], tags={<b style=\"color: #58cd8e;\">I22</b>, <b style=\"color: #d3b991;\">PSI0</b>}),</summary>backend=<b style=\"color: #7fdd73;\">numpy</b>, dtype=<b style=\"color: #443ce1;\">complex128</b>, data=array([1.+0.j, 0.+0.j])</details></samp><samp><details><summary><b style=\"color: #e55471;\">Tensor</b>(shape=(<b style=\"color: #828fdd;\">2</b>), inds=[<b style=\"color: #70c5cd;\">_7535a3AAZNu</b>], tags={<b style=\"color: #3ed5df;\">I23</b>, <b style=\"color: #d3b991;\">PSI0</b>}),</summary>backend=<b style=\"color: #7fdd73;\">numpy</b>, dtype=<b style=\"color: #443ce1;\">complex128</b>, data=array([1.+0.j, 0.+0.j])</details></samp><samp><details><summary><b style=\"color: #e55471;\">Tensor</b>(shape=(<b style=\"color: #828fdd;\">2</b>), inds=[<b style=\"color: #dc9f98;\">_7535a3AAZNv</b>], tags={<b style=\"color: #84a6d5;\">I24</b>, <b style=\"color: #d3b991;\">PSI0</b>}),</summary>backend=<b style=\"color: #7fdd73;\">numpy</b>, dtype=<b style=\"color: #443ce1;\">complex128</b>, data=array([1.+0.j, 0.+0.j])</details></samp><samp><details><summary><b style=\"color: #e55471;\">Tensor</b>(shape=(<b style=\"color: #828fdd;\">2</b>), inds=[<b style=\"color: #4eb5ce;\">_7535a3AAZNw</b>], tags={<b style=\"color: #e270b0;\">I25</b>, <b style=\"color: #d3b991;\">PSI0</b>}),</summary>backend=<b style=\"color: #7fdd73;\">numpy</b>, dtype=<b style=\"color: #443ce1;\">complex128</b>, data=array([1.+0.j, 0.+0.j])</details></samp><samp><details><summary><b style=\"color: #e55471;\">Tensor</b>(shape=(<b style=\"color: #828fdd;\">2</b>), inds=[<b style=\"color: #45e363;\">_7535a3AAZNx</b>], tags={<b style=\"color: #e4ce85;\">I26</b>, <b style=\"color: #d3b991;\">PSI0</b>}),</summary>backend=<b style=\"color: #7fdd73;\">numpy</b>, dtype=<b style=\"color: #443ce1;\">complex128</b>, data=array([1.+0.j, 0.+0.j])</details></samp><samp><details><summary><b style=\"color: #e55471;\">Tensor</b>(shape=(<b style=\"color: #828fdd;\">2</b>), inds=[<b style=\"color: #36d2d5;\">_7535a3AAZNy</b>], tags={<b style=\"color: #2fe42e;\">I27</b>, <b style=\"color: #d3b991;\">PSI0</b>}),</summary>backend=<b style=\"color: #7fdd73;\">numpy</b>, dtype=<b style=\"color: #443ce1;\">complex128</b>, data=array([1.+0.j, 0.+0.j])</details></samp><samp><details><summary><b style=\"color: #e55471;\">Tensor</b>(shape=(<b style=\"color: #828fdd;\">2</b>), inds=[<b style=\"color: #ae6ed8;\">_7535a3AAZNz</b>], tags={<b style=\"color: #77ce63;\">I28</b>, <b style=\"color: #d3b991;\">PSI0</b>}),</summary>backend=<b style=\"color: #7fdd73;\">numpy</b>, dtype=<b style=\"color: #443ce1;\">complex128</b>, data=array([1.+0.j, 0.+0.j])</details></samp><samp><details><summary><b style=\"color: #e55471;\">Tensor</b>(shape=(<b style=\"color: #828fdd;\">2</b>), inds=[<b style=\"color: #705de4;\">_7535a3AAZOA</b>], tags={<b style=\"color: #d29e8c;\">I29</b>, <b style=\"color: #d3b991;\">PSI0</b>}),</summary>backend=<b style=\"color: #7fdd73;\">numpy</b>, dtype=<b style=\"color: #443ce1;\">complex128</b>, data=array([1.+0.j, 0.+0.j])</details></samp><samp><details><summary><b style=\"color: #e55471;\">Tensor</b>(shape=(<b style=\"color: #828fdd;\">2</b>), inds=[<b style=\"color: #cf44df;\">_7535a3AAZOB</b>], tags={<b style=\"color: #cecf73;\">I30</b>, <b style=\"color: #d3b991;\">PSI0</b>}),</summary>backend=<b style=\"color: #7fdd73;\">numpy</b>, dtype=<b style=\"color: #443ce1;\">complex128</b>, data=array([1.+0.j, 0.+0.j])</details></samp><samp><details><summary><b style=\"color: #e55471;\">Tensor</b>(shape=(<b style=\"color: #828fdd;\">2</b>), inds=[<b style=\"color: #dacb83;\">_7535a3AAZOC</b>], tags={<b style=\"color: #4ae341;\">I31</b>, <b style=\"color: #d3b991;\">PSI0</b>}),</summary>backend=<b style=\"color: #7fdd73;\">numpy</b>, dtype=<b style=\"color: #443ce1;\">complex128</b>, data=array([1.+0.j, 0.+0.j])</details></samp><samp><details><summary><b style=\"color: #e55471;\">Tensor</b>(shape=(<b style=\"color: #828fdd;\">2</b>), inds=[<b style=\"color: #a5d13a;\">_7535a3AAZOD</b>], tags={<b style=\"color: #73d949;\">I32</b>, <b style=\"color: #d3b991;\">PSI0</b>}),</summary>backend=<b style=\"color: #7fdd73;\">numpy</b>, dtype=<b style=\"color: #443ce1;\">complex128</b>, data=array([1.+0.j, 0.+0.j])</details></samp><samp><details><summary><b style=\"color: #e55471;\">Tensor</b>(shape=(<b style=\"color: #828fdd;\">2</b>), inds=[<b style=\"color: #d38960;\">_7535a3AAZOE</b>], tags={<b style=\"color: #54cf6a;\">I33</b>, <b style=\"color: #d3b991;\">PSI0</b>}),</summary>backend=<b style=\"color: #7fdd73;\">numpy</b>, dtype=<b style=\"color: #443ce1;\">complex128</b>, data=array([1.+0.j, 0.+0.j])</details></samp><samp><details><summary><b style=\"color: #e55471;\">Tensor</b>(shape=(<b style=\"color: #828fdd;\">2</b>), inds=[<b style=\"color: #d1473d;\">_7535a3AAZOF</b>], tags={<b style=\"color: #d6c363;\">I34</b>, <b style=\"color: #d3b991;\">PSI0</b>}),</summary>backend=<b style=\"color: #7fdd73;\">numpy</b>, dtype=<b style=\"color: #443ce1;\">complex128</b>, data=array([1.+0.j, 0.+0.j])</details></samp><samp><details><summary><b style=\"color: #e55471;\">Tensor</b>(shape=(<b style=\"color: #828fdd;\">2</b>), inds=[<b style=\"color: #d6b357;\">_7535a3AAZOG</b>], tags={<b style=\"color: #73ddd4;\">I35</b>, <b style=\"color: #d3b991;\">PSI0</b>}),</summary>backend=<b style=\"color: #7fdd73;\">numpy</b>, dtype=<b style=\"color: #443ce1;\">complex128</b>, data=array([1.+0.j, 0.+0.j])</details></samp><samp><details><summary><b style=\"color: #e55471;\">Tensor</b>(shape=(<b style=\"color: #828fdd;\">2</b>), inds=[<b style=\"color: #d556cd;\">_7535a3AAZOH</b>], tags={<b style=\"color: #73de36;\">I36</b>, <b style=\"color: #d3b991;\">PSI0</b>}),</summary>backend=<b style=\"color: #7fdd73;\">numpy</b>, dtype=<b style=\"color: #443ce1;\">complex128</b>, data=array([1.+0.j, 0.+0.j])</details></samp><samp><details><summary><b style=\"color: #e55471;\">Tensor</b>(shape=(<b style=\"color: #828fdd;\">2</b>), inds=[<b style=\"color: #97dec6;\">_7535a3AAZOI</b>], tags={<b style=\"color: #98ce58;\">I37</b>, <b style=\"color: #d3b991;\">PSI0</b>}),</summary>backend=<b style=\"color: #7fdd73;\">numpy</b>, dtype=<b style=\"color: #443ce1;\">complex128</b>, data=array([1.+0.j, 0.+0.j])</details></samp><samp><details><summary><b style=\"color: #e55471;\">Tensor</b>(shape=(<b style=\"color: #828fdd;\">2</b>), inds=[<b style=\"color: #da4184;\">_7535a3AAZOJ</b>], tags={<b style=\"color: #86b8d8;\">I38</b>, <b style=\"color: #d3b991;\">PSI0</b>}),</summary>backend=<b style=\"color: #7fdd73;\">numpy</b>, dtype=<b style=\"color: #443ce1;\">complex128</b>, data=array([1.+0.j, 0.+0.j])</details></samp><samp><details><summary><b style=\"color: #e55471;\">Tensor</b>(shape=(<b style=\"color: #828fdd;\">2</b>), inds=[<b style=\"color: #da8eca;\">_7535a3AAZOK</b>], tags={<b style=\"color: #5dde82;\">I39</b>, <b style=\"color: #d3b991;\">PSI0</b>}),</summary>backend=<b style=\"color: #7fdd73;\">numpy</b>, dtype=<b style=\"color: #443ce1;\">complex128</b>, data=array([1.+0.j, 0.+0.j])</details></samp><samp><details><summary><b style=\"color: #e55471;\">Tensor</b>(shape=(<b style=\"color: #828fdd;\">2</b>), inds=[<b style=\"color: #ce6140;\">_7535a3AAZOL</b>], tags={<b style=\"color: #d79954;\">I40</b>, <b style=\"color: #d3b991;\">PSI0</b>}),</summary>backend=<b style=\"color: #7fdd73;\">numpy</b>, dtype=<b style=\"color: #443ce1;\">complex128</b>, data=array([1.+0.j, 0.+0.j])</details></samp><samp><details><summary><b style=\"color: #e55471;\">Tensor</b>(shape=(<b style=\"color: #828fdd;\">2</b>), inds=[<b style=\"color: #39e49f;\">_7535a3AAZOM</b>], tags={<b style=\"color: #db7fb4;\">I41</b>, <b style=\"color: #d3b991;\">PSI0</b>}),</summary>backend=<b style=\"color: #7fdd73;\">numpy</b>, dtype=<b style=\"color: #443ce1;\">complex128</b>, data=array([1.+0.j, 0.+0.j])</details></samp><samp><details><summary><b style=\"color: #e55471;\">Tensor</b>(shape=(<b style=\"color: #828fdd;\">2</b>), inds=[<b style=\"color: #86dc7a;\">_7535a3AAZON</b>], tags={<b style=\"color: #3ad9cb;\">I42</b>, <b style=\"color: #d3b991;\">PSI0</b>}),</summary>backend=<b style=\"color: #7fdd73;\">numpy</b>, dtype=<b style=\"color: #443ce1;\">complex128</b>, data=array([1.+0.j, 0.+0.j])</details></samp><samp><details><summary><b style=\"color: #e55471;\">Tensor</b>(shape=(<b style=\"color: #828fdd;\">2</b>), inds=[<b style=\"color: #afd180;\">_7535a3AAZOO</b>], tags={<b style=\"color: #82d291;\">I43</b>, <b style=\"color: #d3b991;\">PSI0</b>}),</summary>backend=<b style=\"color: #7fdd73;\">numpy</b>, dtype=<b style=\"color: #443ce1;\">complex128</b>, data=array([1.+0.j, 0.+0.j])</details></samp><samp><details><summary><b style=\"color: #e55471;\">Tensor</b>(shape=(<b style=\"color: #828fdd;\">2</b>), inds=[<b style=\"color: #715ae3;\">_7535a3AAZOP</b>], tags={<b style=\"color: #5adfc6;\">I44</b>, <b style=\"color: #d3b991;\">PSI0</b>}),</summary>backend=<b style=\"color: #7fdd73;\">numpy</b>, dtype=<b style=\"color: #443ce1;\">complex128</b>, data=array([1.+0.j, 0.+0.j])</details></samp><samp><details><summary><b style=\"color: #e55471;\">Tensor</b>(shape=(<b style=\"color: #828fdd;\">2</b>), inds=[<b style=\"color: #80e2a8;\">_7535a3AAZOQ</b>], tags={<b style=\"color: #5cdf8f;\">I45</b>, <b style=\"color: #d3b991;\">PSI0</b>}),</summary>backend=<b style=\"color: #7fdd73;\">numpy</b>, dtype=<b style=\"color: #443ce1;\">complex128</b>, data=array([1.+0.j, 0.+0.j])</details></samp><samp><details><summary><b style=\"color: #e55471;\">Tensor</b>(shape=(<b style=\"color: #828fdd;\">2</b>), inds=[<b style=\"color: #dec896;\">_7535a3AAZOR</b>], tags={<b style=\"color: #c5e396;\">I46</b>, <b style=\"color: #d3b991;\">PSI0</b>}),</summary>backend=<b style=\"color: #7fdd73;\">numpy</b>, dtype=<b style=\"color: #443ce1;\">complex128</b>, data=array([1.+0.j, 0.+0.j])</details></samp><samp><details><summary><b style=\"color: #e55471;\">Tensor</b>(shape=(<b style=\"color: #828fdd;\">2</b>), inds=[<b style=\"color: #995bdc;\">_7535a3AAZOS</b>], tags={<b style=\"color: #4152d9;\">I47</b>, <b style=\"color: #d3b991;\">PSI0</b>}),</summary>backend=<b style=\"color: #7fdd73;\">numpy</b>, dtype=<b style=\"color: #443ce1;\">complex128</b>, data=array([1.+0.j, 0.+0.j])</details></samp><samp><details><summary><b style=\"color: #e55471;\">Tensor</b>(shape=(<b style=\"color: #828fdd;\">2</b>), inds=[<b style=\"color: #94e0ca;\">_7535a3AAZOT</b>], tags={<b style=\"color: #a95fdc;\">I48</b>, <b style=\"color: #d3b991;\">PSI0</b>}),</summary>backend=<b style=\"color: #7fdd73;\">numpy</b>, dtype=<b style=\"color: #443ce1;\">complex128</b>, data=array([1.+0.j, 0.+0.j])</details></samp><samp><details><summary><b style=\"color: #e55471;\">Tensor</b>(shape=(<b style=\"color: #828fdd;\">2</b>), inds=[<b style=\"color: #bdcf8c;\">_7535a3AAZOU</b>], tags={<b style=\"color: #a5da82;\">I49</b>, <b style=\"color: #d3b991;\">PSI0</b>}),</summary>backend=<b style=\"color: #7fdd73;\">numpy</b>, dtype=<b style=\"color: #443ce1;\">complex128</b>, data=array([1.+0.j, 0.+0.j])</details></samp><samp><details><summary><b style=\"color: #e55471;\">Tensor</b>(shape=(<b style=\"color: #828fdd;\">2</b>), inds=[<b style=\"color: #e34f2f;\">_7535a3AAZOV</b>], tags={<b style=\"color: #d94432;\">I50</b>, <b style=\"color: #d3b991;\">PSI0</b>}),</summary>backend=<b style=\"color: #7fdd73;\">numpy</b>, dtype=<b style=\"color: #443ce1;\">complex128</b>, data=array([1.+0.j, 0.+0.j])</details></samp><samp><details><summary><b style=\"color: #e55471;\">Tensor</b>(shape=(<b style=\"color: #828fdd;\">2</b>), inds=[<b style=\"color: #43a1d0;\">_7535a3AAZOW</b>], tags={<b style=\"color: #709de5;\">I51</b>, <b style=\"color: #d3b991;\">PSI0</b>}),</summary>backend=<b style=\"color: #7fdd73;\">numpy</b>, dtype=<b style=\"color: #443ce1;\">complex128</b>, data=array([1.+0.j, 0.+0.j])</details></samp><samp><details><summary><b style=\"color: #e55471;\">Tensor</b>(shape=(<b style=\"color: #828fdd;\">2</b>), inds=[<b style=\"color: #44b5d5;\">_7535a3AAZOX</b>], tags={<b style=\"color: #3adb88;\">I52</b>, <b style=\"color: #d3b991;\">PSI0</b>}),</summary>backend=<b style=\"color: #7fdd73;\">numpy</b>, dtype=<b style=\"color: #443ce1;\">complex128</b>, data=array([1.+0.j, 0.+0.j])</details></samp><samp><details><summary><b style=\"color: #e55471;\">Tensor</b>(shape=(<b style=\"color: #828fdd;\">2</b>), inds=[<b style=\"color: #3c36d2;\">_7535a3AAZOY</b>], tags={<b style=\"color: #55a9dd;\">I53</b>, <b style=\"color: #d3b991;\">PSI0</b>}),</summary>backend=<b style=\"color: #7fdd73;\">numpy</b>, dtype=<b style=\"color: #443ce1;\">complex128</b>, data=array([1.+0.j, 0.+0.j])</details></samp><samp><details><summary><b style=\"color: #e55471;\">Tensor</b>(shape=(<b style=\"color: #828fdd;\">2</b>), inds=[<b style=\"color: #6546cd;\">_7535a3AAZOZ</b>], tags={<b style=\"color: #ddca3e;\">I54</b>, <b style=\"color: #d3b991;\">PSI0</b>}),</summary>backend=<b style=\"color: #7fdd73;\">numpy</b>, dtype=<b style=\"color: #443ce1;\">complex128</b>, data=array([1.+0.j, 0.+0.j])</details></samp><samp><details><summary><b style=\"color: #e55471;\">Tensor</b>(shape=(<b style=\"color: #828fdd;\">2</b>), inds=[<b style=\"color: #4c49ce;\">_7535a3AAZOa</b>], tags={<b style=\"color: #a6d86a;\">I55</b>, <b style=\"color: #d3b991;\">PSI0</b>}),</summary>backend=<b style=\"color: #7fdd73;\">numpy</b>, dtype=<b style=\"color: #443ce1;\">complex128</b>, data=array([1.+0.j, 0.+0.j])</details></samp><samp><details><summary><b style=\"color: #e55471;\">Tensor</b>(shape=(<b style=\"color: #828fdd;\">2</b>), inds=[<b style=\"color: #bf38ce;\">_7535a3AAZOb</b>], tags={<b style=\"color: #e236e1;\">I56</b>, <b style=\"color: #d3b991;\">PSI0</b>}),</summary>backend=<b style=\"color: #7fdd73;\">numpy</b>, dtype=<b style=\"color: #443ce1;\">complex128</b>, data=array([1.+0.j, 0.+0.j])</details></samp><samp><details><summary><b style=\"color: #e55471;\">Tensor</b>(shape=(<b style=\"color: #828fdd;\">2</b>), inds=[<b style=\"color: #70cfae;\">_7535a3AAZOc</b>], tags={<b style=\"color: #e37956;\">I57</b>, <b style=\"color: #d3b991;\">PSI0</b>}),</summary>backend=<b style=\"color: #7fdd73;\">numpy</b>, dtype=<b style=\"color: #443ce1;\">complex128</b>, data=array([1.+0.j, 0.+0.j])</details></samp><samp><details><summary><b style=\"color: #e55471;\">Tensor</b>(shape=(<b style=\"color: #828fdd;\">2</b>), inds=[<b style=\"color: #73d27e;\">_7535a3AAZOd</b>], tags={<b style=\"color: #dc85c6;\">I58</b>, <b style=\"color: #d3b991;\">PSI0</b>}),</summary>backend=<b style=\"color: #7fdd73;\">numpy</b>, dtype=<b style=\"color: #443ce1;\">complex128</b>, data=array([1.+0.j, 0.+0.j])</details></samp><samp><details><summary><b style=\"color: #e55471;\">Tensor</b>(shape=(<b style=\"color: #828fdd;\">2</b>), inds=[<b style=\"color: #d287c1;\">_7535a3AAZOe</b>], tags={<b style=\"color: #8be043;\">I59</b>, <b style=\"color: #d3b991;\">PSI0</b>}),</summary>backend=<b style=\"color: #7fdd73;\">numpy</b>, dtype=<b style=\"color: #443ce1;\">complex128</b>, data=array([1.+0.j, 0.+0.j])</details></samp><samp><details><summary><b style=\"color: #e55471;\">Tensor</b>(shape=(<b style=\"color: #828fdd;\">2</b>), inds=[<b style=\"color: #c3e36b;\">_7535a3AAZOf</b>], tags={<b style=\"color: #d9c267;\">I60</b>, <b style=\"color: #d3b991;\">PSI0</b>}),</summary>backend=<b style=\"color: #7fdd73;\">numpy</b>, dtype=<b style=\"color: #443ce1;\">complex128</b>, data=array([1.+0.j, 0.+0.j])</details></samp><samp><details><summary><b style=\"color: #e55471;\">Tensor</b>(shape=(<b style=\"color: #828fdd;\">2</b>), inds=[<b style=\"color: #58a6d9;\">_7535a3AAZOg</b>], tags={<b style=\"color: #94d9c9;\">I61</b>, <b style=\"color: #d3b991;\">PSI0</b>}),</summary>backend=<b style=\"color: #7fdd73;\">numpy</b>, dtype=<b style=\"color: #443ce1;\">complex128</b>, data=array([1.+0.j, 0.+0.j])</details></samp><samp><details><summary><b style=\"color: #e55471;\">Tensor</b>(shape=(<b style=\"color: #828fdd;\">2</b>), inds=[<b style=\"color: #8b41d9;\">_7535a3AAZOh</b>], tags={<b style=\"color: #40d786;\">I62</b>, <b style=\"color: #d3b991;\">PSI0</b>}),</summary>backend=<b style=\"color: #7fdd73;\">numpy</b>, dtype=<b style=\"color: #443ce1;\">complex128</b>, data=array([1.+0.j, 0.+0.j])</details></samp><samp><details><summary><b style=\"color: #e55471;\">Tensor</b>(shape=(<b style=\"color: #828fdd;\">2</b>), inds=[<b style=\"color: #d684d6;\">_7535a3AAZOi</b>], tags={<b style=\"color: #b157cf;\">I63</b>, <b style=\"color: #d3b991;\">PSI0</b>}),</summary>backend=<b style=\"color: #7fdd73;\">numpy</b>, dtype=<b style=\"color: #443ce1;\">complex128</b>, data=array([1.+0.j, 0.+0.j])</details></samp><samp><details><summary><b style=\"color: #e55471;\">Tensor</b>(shape=(<b style=\"color: #828fdd;\">2</b>), inds=[<b style=\"color: #d93091;\">_7535a3AAZOj</b>], tags={<b style=\"color: #d2a48d;\">I64</b>, <b style=\"color: #d3b991;\">PSI0</b>}),</summary>backend=<b style=\"color: #7fdd73;\">numpy</b>, dtype=<b style=\"color: #443ce1;\">complex128</b>, data=array([1.+0.j, 0.+0.j])</details></samp><samp><details><summary><b style=\"color: #e55471;\">Tensor</b>(shape=(<b style=\"color: #828fdd;\">2</b>), inds=[<b style=\"color: #2dcdc9;\">_7535a3AAZOk</b>], tags={<b style=\"color: #dca369;\">I65</b>, <b style=\"color: #d3b991;\">PSI0</b>}),</summary>backend=<b style=\"color: #7fdd73;\">numpy</b>, dtype=<b style=\"color: #443ce1;\">complex128</b>, data=array([1.+0.j, 0.+0.j])</details></samp><samp><details><summary><b style=\"color: #e55471;\">Tensor</b>(shape=(<b style=\"color: #828fdd;\">2</b>), inds=[<b style=\"color: #e2c092;\">_7535a3AAZOl</b>], tags={<b style=\"color: #6b8adc;\">I66</b>, <b style=\"color: #d3b991;\">PSI0</b>}),</summary>backend=<b style=\"color: #7fdd73;\">numpy</b>, dtype=<b style=\"color: #443ce1;\">complex128</b>, data=array([1.+0.j, 0.+0.j])</details></samp><samp><details><summary><b style=\"color: #e55471;\">Tensor</b>(shape=(<b style=\"color: #828fdd;\">2</b>), inds=[<b style=\"color: #e170a7;\">_7535a3AAZOm</b>], tags={<b style=\"color: #3cce9a;\">I67</b>, <b style=\"color: #d3b991;\">PSI0</b>}),</summary>backend=<b style=\"color: #7fdd73;\">numpy</b>, dtype=<b style=\"color: #443ce1;\">complex128</b>, data=array([1.+0.j, 0.+0.j])</details></samp><samp><details><summary><b style=\"color: #e55471;\">Tensor</b>(shape=(<b style=\"color: #828fdd;\">2</b>), inds=[<b style=\"color: #7ee39d;\">_7535a3AAZOn</b>], tags={<b style=\"color: #9ade47;\">I68</b>, <b style=\"color: #d3b991;\">PSI0</b>}),</summary>backend=<b style=\"color: #7fdd73;\">numpy</b>, dtype=<b style=\"color: #443ce1;\">complex128</b>, data=array([1.+0.j, 0.+0.j])</details></samp><samp><details><summary><b style=\"color: #e55471;\">Tensor</b>(shape=(<b style=\"color: #828fdd;\">2</b>), inds=[<b style=\"color: #3b94de;\">_7535a3AAZOo</b>], tags={<b style=\"color: #a2d134;\">I69</b>, <b style=\"color: #d3b991;\">PSI0</b>}),</summary>backend=<b style=\"color: #7fdd73;\">numpy</b>, dtype=<b style=\"color: #443ce1;\">complex128</b>, data=array([1.+0.j, 0.+0.j])</details></samp><samp><details><summary><b style=\"color: #e55471;\">Tensor</b>(shape=(<b style=\"color: #828fdd;\">2</b>), inds=[<b style=\"color: #ddc642;\">_7535a3AAZOp</b>], tags={<b style=\"color: #e4656c;\">I70</b>, <b style=\"color: #d3b991;\">PSI0</b>}),</summary>backend=<b style=\"color: #7fdd73;\">numpy</b>, dtype=<b style=\"color: #443ce1;\">complex128</b>, data=array([1.+0.j, 0.+0.j])</details></samp><samp><details><summary><b style=\"color: #e55471;\">Tensor</b>(shape=(<b style=\"color: #828fdd;\">2</b>), inds=[<b style=\"color: #40d06c;\">_7535a3AAZOq</b>], tags={<b style=\"color: #d3827b;\">I71</b>, <b style=\"color: #d3b991;\">PSI0</b>}),</summary>backend=<b style=\"color: #7fdd73;\">numpy</b>, dtype=<b style=\"color: #443ce1;\">complex128</b>, data=array([1.+0.j, 0.+0.j])</details></samp><samp><details><summary><b style=\"color: #e55471;\">Tensor</b>(shape=(<b style=\"color: #828fdd;\">2</b>), inds=[<b style=\"color: #df62a4;\">_7535a3AAZOr</b>], tags={<b style=\"color: #7754da;\">I72</b>, <b style=\"color: #d3b991;\">PSI0</b>}),</summary>backend=<b style=\"color: #7fdd73;\">numpy</b>, dtype=<b style=\"color: #443ce1;\">complex128</b>, data=array([1.+0.j, 0.+0.j])</details></samp><samp><details><summary><b style=\"color: #e55471;\">Tensor</b>(shape=(<b style=\"color: #828fdd;\">2</b>), inds=[<b style=\"color: #acd881;\">_7535a3AAZOs</b>], tags={<b style=\"color: #d5789a;\">I73</b>, <b style=\"color: #d3b991;\">PSI0</b>}),</summary>backend=<b style=\"color: #7fdd73;\">numpy</b>, dtype=<b style=\"color: #443ce1;\">complex128</b>, data=array([1.+0.j, 0.+0.j])</details></samp><samp><details><summary><b style=\"color: #e55471;\">Tensor</b>(shape=(<b style=\"color: #828fdd;\">2</b>), inds=[<b style=\"color: #ccd02e;\">_7535a3AAZOt</b>], tags={<b style=\"color: #7ed399;\">I74</b>, <b style=\"color: #d3b991;\">PSI0</b>}),</summary>backend=<b style=\"color: #7fdd73;\">numpy</b>, dtype=<b style=\"color: #443ce1;\">complex128</b>, data=array([1.+0.j, 0.+0.j])</details></samp><samp><details><summary><b style=\"color: #e55471;\">Tensor</b>(shape=(<b style=\"color: #828fdd;\">2</b>), inds=[<b style=\"color: #6adee0;\">_7535a3AAZOu</b>], tags={<b style=\"color: #37e337;\">I75</b>, <b style=\"color: #d3b991;\">PSI0</b>}),</summary>backend=<b style=\"color: #7fdd73;\">numpy</b>, dtype=<b style=\"color: #443ce1;\">complex128</b>, data=array([1.+0.j, 0.+0.j])</details></samp><samp><details><summary><b style=\"color: #e55471;\">Tensor</b>(shape=(<b style=\"color: #828fdd;\">2</b>), inds=[<b style=\"color: #ce6862;\">_7535a3AAZOv</b>], tags={<b style=\"color: #7bd092;\">I76</b>, <b style=\"color: #d3b991;\">PSI0</b>}),</summary>backend=<b style=\"color: #7fdd73;\">numpy</b>, dtype=<b style=\"color: #443ce1;\">complex128</b>, data=array([1.+0.j, 0.+0.j])</details></samp><samp><details><summary><b style=\"color: #e55471;\">Tensor</b>(shape=(<b style=\"color: #828fdd;\">2</b>), inds=[<b style=\"color: #83d6cc;\">_7535a3AAZOw</b>], tags={<b style=\"color: #d48a81;\">I77</b>, <b style=\"color: #d3b991;\">PSI0</b>}),</summary>backend=<b style=\"color: #7fdd73;\">numpy</b>, dtype=<b style=\"color: #443ce1;\">complex128</b>, data=array([1.+0.j, 0.+0.j])</details></samp><samp><details><summary><b style=\"color: #e55471;\">Tensor</b>(shape=(<b style=\"color: #828fdd;\">2</b>), inds=[<b style=\"color: #74de54;\">_7535a3AAZOx</b>], tags={<b style=\"color: #de5b94;\">I78</b>, <b style=\"color: #d3b991;\">PSI0</b>}),</summary>backend=<b style=\"color: #7fdd73;\">numpy</b>, dtype=<b style=\"color: #443ce1;\">complex128</b>, data=array([1.+0.j, 0.+0.j])</details></samp><samp><details><summary><b style=\"color: #e55471;\">Tensor</b>(shape=(<b style=\"color: #828fdd;\">2</b>), inds=[<b style=\"color: #e096d0;\">_7535a3AAZOy</b>], tags={<b style=\"color: #dabd85;\">I79</b>, <b style=\"color: #d3b991;\">PSI0</b>}),</summary>backend=<b style=\"color: #7fdd73;\">numpy</b>, dtype=<b style=\"color: #443ce1;\">complex128</b>, data=array([1.+0.j, 0.+0.j])</details></samp><samp><details><summary><b style=\"color: #e55471;\">Tensor</b>(shape=(<b style=\"color: #828fdd;\">2</b>), inds=[<b style=\"color: #94c3db;\">_7535a3AAZOz</b>], tags={<b style=\"color: #64d171;\">I80</b>, <b style=\"color: #d3b991;\">PSI0</b>}),</summary>backend=<b style=\"color: #7fdd73;\">numpy</b>, dtype=<b style=\"color: #443ce1;\">complex128</b>, data=array([1.+0.j, 0.+0.j])</details></samp><samp><details><summary><b style=\"color: #e55471;\">Tensor</b>(shape=(<b style=\"color: #828fdd;\">2</b>), inds=[<b style=\"color: #d12e71;\">_7535a3AAZPA</b>], tags={<b style=\"color: #93a7de;\">I81</b>, <b style=\"color: #d3b991;\">PSI0</b>}),</summary>backend=<b style=\"color: #7fdd73;\">numpy</b>, dtype=<b style=\"color: #443ce1;\">complex128</b>, data=array([1.+0.j, 0.+0.j])</details></samp><samp><details><summary><b style=\"color: #e55471;\">Tensor</b>(shape=(<b style=\"color: #828fdd;\">2</b>), inds=[<b style=\"color: #e570be;\">_7535a3AAZPB</b>], tags={<b style=\"color: #d7388e;\">I82</b>, <b style=\"color: #d3b991;\">PSI0</b>}),</summary>backend=<b style=\"color: #7fdd73;\">numpy</b>, dtype=<b style=\"color: #443ce1;\">complex128</b>, data=array([1.+0.j, 0.+0.j])</details></samp><samp><details><summary><b style=\"color: #e55471;\">Tensor</b>(shape=(<b style=\"color: #828fdd;\">2</b>), inds=[<b style=\"color: #e1ce55;\">_7535a3AAZPC</b>], tags={<b style=\"color: #34d4a0;\">I83</b>, <b style=\"color: #d3b991;\">PSI0</b>}),</summary>backend=<b style=\"color: #7fdd73;\">numpy</b>, dtype=<b style=\"color: #443ce1;\">complex128</b>, data=array([1.+0.j, 0.+0.j])</details></samp><samp><details><summary><b style=\"color: #e55471;\">Tensor</b>(shape=(<b style=\"color: #828fdd;\">2</b>), inds=[<b style=\"color: #2fcf62;\">_7535a3AAZPD</b>], tags={<b style=\"color: #da2e87;\">I84</b>, <b style=\"color: #d3b991;\">PSI0</b>}),</summary>backend=<b style=\"color: #7fdd73;\">numpy</b>, dtype=<b style=\"color: #443ce1;\">complex128</b>, data=array([1.+0.j, 0.+0.j])</details></samp><samp><details><summary><b style=\"color: #e55471;\">Tensor</b>(shape=(<b style=\"color: #828fdd;\">2</b>), inds=[<b style=\"color: #79ddd0;\">_7535a3AAZPE</b>], tags={<b style=\"color: #d968cf;\">I85</b>, <b style=\"color: #d3b991;\">PSI0</b>}),</summary>backend=<b style=\"color: #7fdd73;\">numpy</b>, dtype=<b style=\"color: #443ce1;\">complex128</b>, data=array([1.+0.j, 0.+0.j])</details></samp><samp><details><summary><b style=\"color: #e55471;\">Tensor</b>(shape=(<b style=\"color: #828fdd;\">2</b>), inds=[<b style=\"color: #91dc60;\">_7535a3AAZPF</b>], tags={<b style=\"color: #db99ce;\">I86</b>, <b style=\"color: #d3b991;\">PSI0</b>}),</summary>backend=<b style=\"color: #7fdd73;\">numpy</b>, dtype=<b style=\"color: #443ce1;\">complex128</b>, data=array([1.+0.j, 0.+0.j])</details></samp><samp><details><summary><b style=\"color: #e55471;\">Tensor</b>(shape=(<b style=\"color: #828fdd;\">2</b>), inds=[<b style=\"color: #d0a069;\">_7535a3AAZPG</b>], tags={<b style=\"color: #e561b4;\">I87</b>, <b style=\"color: #d3b991;\">PSI0</b>}),</summary>backend=<b style=\"color: #7fdd73;\">numpy</b>, dtype=<b style=\"color: #443ce1;\">complex128</b>, data=array([1.+0.j, 0.+0.j])</details></samp><samp><details><summary><b style=\"color: #e55471;\">Tensor</b>(shape=(<b style=\"color: #828fdd;\">2</b>), inds=[<b style=\"color: #7ecfd4;\">_7535a3AAZPH</b>], tags={<b style=\"color: #307de0;\">I88</b>, <b style=\"color: #d3b991;\">PSI0</b>}),</summary>backend=<b style=\"color: #7fdd73;\">numpy</b>, dtype=<b style=\"color: #443ce1;\">complex128</b>, data=array([1.+0.j, 0.+0.j])</details></samp><samp><details><summary><b style=\"color: #e55471;\">Tensor</b>(shape=(<b style=\"color: #828fdd;\">2</b>), inds=[<b style=\"color: #a7d180;\">_7535a3AAZPI</b>], tags={<b style=\"color: #8dd2a1;\">I89</b>, <b style=\"color: #d3b991;\">PSI0</b>}),</summary>backend=<b style=\"color: #7fdd73;\">numpy</b>, dtype=<b style=\"color: #443ce1;\">complex128</b>, data=array([1.+0.j, 0.+0.j])</details></samp><samp><details><summary><b style=\"color: #e55471;\">Tensor</b>(shape=(<b style=\"color: #828fdd;\">2</b>), inds=[<b style=\"color: #e34f9d;\">_7535a3AAZPJ</b>], tags={<b style=\"color: #9be1bb;\">I90</b>, <b style=\"color: #d3b991;\">PSI0</b>}),</summary>backend=<b style=\"color: #7fdd73;\">numpy</b>, dtype=<b style=\"color: #443ce1;\">complex128</b>, data=array([1.+0.j, 0.+0.j])</details></samp><samp><details><summary><b style=\"color: #e55471;\">Tensor</b>(shape=(<b style=\"color: #828fdd;\">2</b>), inds=[<b style=\"color: #72cd94;\">_7535a3AAZPK</b>], tags={<b style=\"color: #854cd5;\">I91</b>, <b style=\"color: #d3b991;\">PSI0</b>}),</summary>backend=<b style=\"color: #7fdd73;\">numpy</b>, dtype=<b style=\"color: #443ce1;\">complex128</b>, data=array([1.+0.j, 0.+0.j])</details></samp><samp><details><summary><b style=\"color: #e55471;\">Tensor</b>(shape=(<b style=\"color: #828fdd;\">2</b>), inds=[<b style=\"color: #c97ad0;\">_7535a3AAZPL</b>], tags={<b style=\"color: #39ccd8;\">I92</b>, <b style=\"color: #d3b991;\">PSI0</b>}),</summary>backend=<b style=\"color: #7fdd73;\">numpy</b>, dtype=<b style=\"color: #443ce1;\">complex128</b>, data=array([1.+0.j, 0.+0.j])</details></samp><samp><details><summary><b style=\"color: #e55471;\">Tensor</b>(shape=(<b style=\"color: #828fdd;\">2</b>), inds=[<b style=\"color: #dac64e;\">_7535a3AAZPM</b>], tags={<b style=\"color: #a07fd3;\">I93</b>, <b style=\"color: #d3b991;\">PSI0</b>}),</summary>backend=<b style=\"color: #7fdd73;\">numpy</b>, dtype=<b style=\"color: #443ce1;\">complex128</b>, data=array([1.+0.j, 0.+0.j])</details></samp><samp><details><summary><b style=\"color: #e55471;\">Tensor</b>(shape=(<b style=\"color: #828fdd;\">2</b>), inds=[<b style=\"color: #c3cd83;\">_7535a3AAZPN</b>], tags={<b style=\"color: #db7ed3;\">I94</b>, <b style=\"color: #d3b991;\">PSI0</b>}),</summary>backend=<b style=\"color: #7fdd73;\">numpy</b>, dtype=<b style=\"color: #443ce1;\">complex128</b>, data=array([1.+0.j, 0.+0.j])</details></samp><samp><details><summary><b style=\"color: #e55471;\">Tensor</b>(shape=(<b style=\"color: #828fdd;\">2</b>), inds=[<b style=\"color: #ddb68a;\">_7535a3AAZPO</b>], tags={<b style=\"color: #869cd7;\">I95</b>, <b style=\"color: #d3b991;\">PSI0</b>}),</summary>backend=<b style=\"color: #7fdd73;\">numpy</b>, dtype=<b style=\"color: #443ce1;\">complex128</b>, data=array([1.+0.j, 0.+0.j])</details></samp><samp><details><summary><b style=\"color: #e55471;\">Tensor</b>(shape=(<b style=\"color: #828fdd;\">2</b>), inds=[<b style=\"color: #7b9cde;\">_7535a3AAZPP</b>], tags={<b style=\"color: #5cc9e5;\">I96</b>, <b style=\"color: #d3b991;\">PSI0</b>}),</summary>backend=<b style=\"color: #7fdd73;\">numpy</b>, dtype=<b style=\"color: #443ce1;\">complex128</b>, data=array([1.+0.j, 0.+0.j])</details></samp><samp><details><summary><b style=\"color: #e55471;\">Tensor</b>(shape=(<b style=\"color: #828fdd;\">2</b>), inds=[<b style=\"color: #e55197;\">_7535a3AAZPQ</b>], tags={<b style=\"color: #d59cde;\">I97</b>, <b style=\"color: #d3b991;\">PSI0</b>}),</summary>backend=<b style=\"color: #7fdd73;\">numpy</b>, dtype=<b style=\"color: #443ce1;\">complex128</b>, data=array([1.+0.j, 0.+0.j])</details></samp><samp><details><summary><b style=\"color: #e55471;\">Tensor</b>(shape=(<b style=\"color: #828fdd;\">2</b>), inds=[<b style=\"color: #4685d8;\">_7535a3AAZPR</b>], tags={<b style=\"color: #64d478;\">I98</b>, <b style=\"color: #d3b991;\">PSI0</b>}),</summary>backend=<b style=\"color: #7fdd73;\">numpy</b>, dtype=<b style=\"color: #443ce1;\">complex128</b>, data=array([1.+0.j, 0.+0.j])</details></samp><samp><details><summary><b style=\"color: #e55471;\">Tensor</b>(shape=(<b style=\"color: #828fdd;\">2</b>), inds=[<b style=\"color: #80e15f;\">_7535a3AAZPS</b>], tags={<b style=\"color: #97a4de;\">I99</b>, <b style=\"color: #d3b991;\">PSI0</b>}),</summary>backend=<b style=\"color: #7fdd73;\">numpy</b>, dtype=<b style=\"color: #443ce1;\">complex128</b>, data=array([1.+0.j, 0.+0.j])</details></samp><p>...</p></details></samp>"
      ],
      "text/plain": [
       "TensorNetworkGenVector(tensors=2202, indices=2922)"
      ]
     },
     "execution_count": 81,
     "metadata": {},
     "output_type": "execute_result"
    }
   ],
   "source": [
    "# Big non-stabilizer test Uncontracted (TN FAST) !!!!!!!!!!!!!!\n",
    "max_qubits = 127\n",
    "ev_checks = {\n",
    "    # 'xyz_l' : 'I'*37 + 'XZIZXZ' + 'I'*(52-43) + 'XIIIXXXIIIXZ' + 'I'*(72-64) + 'ZIIYIIIXZ' + 'I'*(90-81) + 'ZZ' + 'I'*(127-92),\n",
    "    # 'z': 'IIZIZIZ' + 'I'*(101-7) + 'ZIZIZ' + 'I'*(127-106),\n",
    "}\n",
    "\n",
    "mode = 'tn'\n",
    "# max_bonds = [2**i for i in range(1,12)] # current trial\n",
    "max_bonds = [2**i for i in range(4,)] # target if performance allows it\n",
    "# max_bonds = [None]\n",
    "results = []\n",
    "trotter_steps = 5\n",
    "rot_angle = 0.95*np.pi/2 # np.pi/2\n",
    "compare = True\n",
    "real = True\n",
    "\n",
    "if real:\n",
    "    cx_instructions = connectivity_kyiv()\n",
    "    ev_checks['xyz_s'] = 'IIIIIIIIZYIIZXIIIZIIIIIIIIIIZXYXZ'+'I'*(max_qubits-33)\n",
    "else:\n",
    "    cx_instructions = [[i,i+1] for i in range(max_qubits-1)]\n",
    "    ev_checks['xyz_s'] = 'IIIIIIIIZYZYZYZYZYZIIIIIIIIIIIIII'+'I'*(max_qubits-33)\n",
    "    \n",
    "qc_0 = QuantumCircuit(max_qubits,33)\n",
    "\n",
    "start = time()\n",
    "results_real = {}\n",
    "if compare:\n",
    "    qc_tn = qtn.Circuit(max_qubits)\n",
    "    print('Calculating with TN to compare...')\n",
    "    for _ in range(trotter_steps):\n",
    "        for qb in range(max_qubits):\n",
    "            qc_tn.apply_gate('RX', rot_angle, qb)\n",
    "        for conn in cx_instructions:\n",
    "            if conn[0]>=max_qubits or conn[1]>=max_qubits:\n",
    "                # print('skipped one')\n",
    "                continue\n",
    "            qc_tn.apply_gate('RZZ', -np.pi/2, conn[0], conn[1])\n",
    "    \n",
    "    for ev in ev_checks:\n",
    "        expec = qu.pauli(ev_checks[ev][0])\n",
    "        where = [0,]\n",
    "        for i,ch in enumerate(ev_checks[ev][1:]):\n",
    "            if ch!='I':\n",
    "                expec = expec & qu.pauli(ch)\n",
    "                where.append(i+1)\n",
    "        print('measuring')\n",
    "        results_real[ev_checks[ev]] = qc_tn.local_expectation(expec, where=(*where,))\n",
    "        print(f\"TN gave {results_real[ev_checks[ev]]}\")\n",
    "    # print(f\"Ended with bond size {max(qc_tn.psi.bond_sizes())}\")\n",
    "qc_tn.psi      "
   ]
  },
  {
   "cell_type": "markdown",
   "metadata": {},
   "source": [
    "## Average t-gate entanglement (plot in Phys. Rev. Lett. 133, 230601)"
   ]
  },
  {
   "cell_type": "markdown",
   "metadata": {},
   "source": [
    "This is based on the idea that clifford maps clifford states bijectively. However, clifford gates are not one to one with tableaus. We must solve this first to perform the experiment."
   ]
  },
  {
   "cell_type": "code",
   "execution_count": 1,
   "metadata": {},
   "outputs": [
    {
     "name": "stderr",
     "output_type": "stream",
     "text": [
      "c:\\Users\\Sergi\\miniconda3\\envs\\stab\\Lib\\site-packages\\cotengra\\hyperoptimizers\\hyper.py:34: UserWarning: Couldn't import `kahypar` - skipping from default hyper optimizer and using basic `labels` method instead.\n",
      "  warnings.warn(\n"
     ]
    }
   ],
   "source": [
    "from stabilizers import *\n",
    "from time import time\n",
    "import numpy as np"
   ]
  },
  {
   "cell_type": "code",
   "execution_count": 2,
   "metadata": {},
   "outputs": [],
   "source": [
    "# Create random cliffords\n",
    "n_qubits = 40\n",
    "\n",
    "from scipy import sparse\n",
    "from qiskit.quantum_info import random_clifford\n",
    "from random import random\n",
    "\n",
    "# random_clifford(n_qubits)\n",
    "# random()"
   ]
  },
  {
   "cell_type": "code",
   "execution_count": 36,
   "metadata": {},
   "outputs": [
    {
     "name": "stdout",
     "output_type": "stream",
     "text": [
      "Average bond of 100 tries is: 5.520000000000003\n",
      "Average increase of 100 tries is: 5.520000000000003\n",
      "Max increase of 100 tries is: 16.0\n",
      "Min increase of 100 tries is: 2.0\n"
     ]
    }
   ],
   "source": [
    "# Big non-stabilizer test\n",
    "n_qubits = 30\n",
    "\n",
    "mode = 'tn'\n",
    "max_bond = None # this should work for not limiting max_bond\n",
    "\n",
    "tries = 100 # this means how many cliffords for each T-gate\n",
    "# cx_instructions = connectivity_kyiv()\n",
    "average = 0\n",
    "average_inc = 0\n",
    "samples = []\n",
    "samples_pre = []\n",
    "\n",
    "for i in range(tries):\n",
    "    qc = QuantumCircuit(n_qubits)\n",
    "    qc.t(int(n_qubits*random())) \n",
    "    new_cliff = random_clifford(n_qubits)\n",
    "    stn = gen_clifford(new_cliff,mode=mode,max_bond=max_bond)\n",
    "    temp1 = stn.copy()\n",
    "    res_bond_a = max(stn.xvec.bond_sizes())\n",
    "    stn.compose(qc)\n",
    "    temp2 = stn.copy()\n",
    "    res_bond = max(stn.xvec.bond_sizes())\n",
    "\n",
    "    # print(f\"Obtained bond {res_bond} in trial {i}\")\n",
    "    samples_pre.append(res_bond_a)\n",
    "    samples.append(res_bond)\n",
    "    average += res_bond/tries\n",
    "    average_inc += (res_bond/res_bond_a)/tries\n",
    "\n",
    "    if (res_bond/res_bond_a)==(max(samples)/samples_pre[np.argmax(samples)]):\n",
    "        max1 = temp1\n",
    "        max2 = temp2\n",
    "    if (res_bond/res_bond_a)==(min(samples)/samples_pre[np.argmin(samples)]):\n",
    "        min1 = temp1\n",
    "        min2 = temp2\n",
    "\n",
    "print(f\"Average bond of {tries} tries is: {average}\")\n",
    "print(f\"Average increase of {tries} tries is: {average_inc}\")\n",
    "print(f\"Max increase of {tries} tries is: {max(samples)/samples_pre[np.argmax(samples)]}\")\n",
    "print(f\"Min increase of {tries} tries is: {min(samples)/samples_pre[np.argmin(samples)]}\")"
   ]
  },
  {
   "cell_type": "code",
   "execution_count": 4,
   "metadata": {},
   "outputs": [],
   "source": [
    "## To calculate amount of clifford circuits given n\n",
    "\n",
    "def count_clifford_circs(n):\n",
    "\n",
    "    fact1 = 2**(2*n) # phase combinations\n",
    "    fact2 = 2**(n**2) # Sp(2n) elements\n",
    "    for k in range(1,n+1):\n",
    "        fact2 *= (4**k - 1)\n",
    "\n",
    "    return fact1*fact2"
   ]
  },
  {
   "cell_type": "markdown",
   "metadata": {},
   "source": [
    "### Plots with n"
   ]
  },
  {
   "cell_type": "code",
   "execution_count": null,
   "metadata": {},
   "outputs": [],
   "source": [
    "# Big non-stabilizer test\n",
    "min_qubits = 2\n",
    "max_qubits = 50\n",
    "qubit_list = range(min_qubits,max_qubits)\n",
    "\n",
    "mode = 'tn'\n",
    "max_bond = None # this should work for not limiting max_bond\n",
    "\n",
    "# try_func = lambda x: x**2 + 100*int(x/10) # how many tries we should do for a given n\n",
    "try_func = lambda x: x # how many tries we should do for a given n\n",
    "\n",
    "samples = [[0],[0],]\n",
    "averages = [0,]*(len(qubit_list)+2)\n",
    "average_incs = [0,]*(len(qubit_list)+2)\n",
    "cliff_circuits = [0,0]\n",
    "\n",
    "for n_qubits in qubit_list:\n",
    "    samples.append([])\n",
    "    samples_pre = []\n",
    "    print(f\"For {n_qubits} qubits\")\n",
    "    tries = try_func(n_qubits)\n",
    "    average = 0\n",
    "    average_inc = 0\n",
    "    for i in range(tries):\n",
    "        qc = QuantumCircuit(n_qubits)\n",
    "        qc.t(int(n_qubits*random())) \n",
    "        new_cliff = random_clifford(n_qubits)\n",
    "        test = gen_clifford(new_cliff,mode=mode,max_bond=max_bond)\n",
    "        res_bond_a = max(test.xvec.bond_sizes())\n",
    "        test.compose(qc)\n",
    "        res_bond = max(test.xvec.bond_sizes())\n",
    "\n",
    "        samples_pre.append(res_bond_a)\n",
    "        samples[-1].append(res_bond)\n",
    "        \n",
    "        average += res_bond/tries\n",
    "        average_inc += (res_bond/res_bond_a)/tries\n",
    "        \n",
    "    averages[n_qubits] = average\n",
    "    average_incs[n_qubits] = average_inc\n",
    "    # cliff_circuits.append(count_clifford_circs(n_qubits))\n",
    "\n",
    "    print(f\"Average bond of {tries} tries is: {average}\")\n",
    "    print(f\"Average increase of {tries} tries is: {average_inc}\")\n",
    "    # print(f\"Amount of possible Cliffords is: {cliff_circuits[-1]}\")\n",
    "    print(f\"Max increase of {tries} tries is: {max(samples[-1])/samples_pre[np.argmax(samples[-1])]}\")\n",
    "    print(f\"Min increase of {tries} tries is: {min(samples[-1])/samples_pre[np.argmin(samples[-1])]}\")"
   ]
  },
  {
   "cell_type": "code",
   "execution_count": 7,
   "metadata": {},
   "outputs": [],
   "source": [
    "from matplotlib import pyplot as plt"
   ]
  },
  {
   "cell_type": "code",
   "execution_count": 48,
   "metadata": {},
   "outputs": [
    {
     "name": "stdout",
     "output_type": "stream",
     "text": [
      "[Decimal('24'), Decimal('11520'), Decimal('92897280'), Decimal('12128668876800'), Decimal('25410822678459187200'), Decimal('852437556169034724016128000'), Decimal('4.576209955296803515123703816E+35'), Decimal('3.930874438226752547895796428E+45'), Decimal('5.402532081094233125882679856E+56'), Decimal('1.188028235526100326803818368E+69'), Decimal('4.180001752488569306571225047E+82'), Decimal('2.353131651606858058757448268E+97'), Decimal('2.119512534282874757335140730E+113'), Decimal('3.054539463694057850608873081E+130'), Decimal('7.043288462166715668751101221E+148'), Decimal('2.598514793373000602187899570E+168'), Decimal('1.533892395593915676593455267E+189'), Decimal('1.448720407435185154327536371E+211'), Decimal('2.189244382430811488475569644E+234'), Decimal('5.293268118728968715777985491E+258'), Decimal('2.047733919639343922111618749E+284'), Decimal('1.267485904462095526657936186E+311'), Decimal('1.255257240290759990632775211E+339'), Decimal('1.989034492619258790101944703E+368'), Decimal('5.042801536886905778362092953E+398'), Decimal('2.045603326421287167773466433E+430'), Decimal('1.327672465698205291490608023E+463'), Decimal('1.378733914561595986374276498E+497'), Decimal('2.290814647466752080825296264E+532'), Decimal('6.090029925133918947187099560E+568'), Decimal('2.590412246929894509313114999E+606'), Decimal('1.762943221372582028272031823E+645'), Decimal('1.919675174770835845009258577E+685'), Decimal('3.344545854414777522879412414E+726'), Decimal('9.323233113013231296476005897E+768'), Decimal('4.158300921596230647780069797E+812'), Decimal('2.967462697962643385979045634E+857'), Decimal('3.388243431086548390524968084E+903'), Decimal('6.189904152760833500453680407E+950'), Decimal('1.809311010836262715589430762E+999'), Decimal('8.461795215289692771903347523E+1048'), Decimal('6.331866911695199306416714890E+1099'), Decimal('7.580904537132156084327701156E+1151'), Decimal('1.452212799860626795599630215E+1205'), Decimal('4.451019280349556138451243529E+1259'), Decimal('2.182773503822013576431686953E+1315'), Decimal('1.712686418599653384693914491E+1372'), Decimal('2.150141378073016684803217929E+1430'), Decimal('4.318929976201229535772940287E+1489')]\n"
     ]
    },
    {
     "data": {
      "image/png": "[encoded data removed]",
      "text/plain": [
       "<Figure size 300x200 with 1 Axes>"
      ]
     },
     "metadata": {},
     "output_type": "display_data"
    }
   ],
   "source": [
    "from decimal import *\n",
    "from matplotlib import pyplot as plt\n",
    "import numpy as np\n",
    "\n",
    "def count_clifford_circs_dec(n):\n",
    "\n",
    "    fact1 = Decimal(2.0)**Decimal(2*n) # phase combinations\n",
    "    fact2 = Decimal(2.0)**Decimal(n**2) # Sp(2n) elements\n",
    "    for k in range(1,n+1):\n",
    "        fact2 *= Decimal(4**k - 1)\n",
    "\n",
    "    return fact1*fact2\n",
    "\n",
    "def count_clifford_circs(n):\n",
    "\n",
    "    fact1 = 2.0**(2*n) # phase combinations\n",
    "    fact2 = 2.0**(n**2) # Sp(2n) elements\n",
    "    for k in range(1,n+1):\n",
    "        fact2 *= (4**k - 1)\n",
    "\n",
    "    return fact1*fact2\n",
    "\n",
    "max_qubits = 50\n",
    "fig = plt.figure(figsize=(3,2))\n",
    "\n",
    "ax = plt.gca()\n",
    "xs = range(1,max_qubits)\n",
    "ys = [count_clifford_circs_dec(n) for n in xs]\n",
    "print(ys)\n",
    "\n",
    "# plt.xticks(np.arange(xlim[0], xlim[1]+200, 200))\n",
    "\n",
    "plt.yscale('log')\n",
    "plt.yticks([Decimal(1),Decimal(1e100),Decimal(1e200),Decimal(1e300)], size=14)\n",
    "plt.xticks([10,20], size=14)\n",
    "plt.plot(xs, ys, color='b')\n",
    "# plt.plot(x, [test() for n in x], color='b')\n",
    "plt.xlabel(\"Qubits\", size=14)\n",
    "# plt.legend()\n",
    "# plt.tight_layout()\n",
    "plt.show()"
   ]
  },
  {
   "cell_type": "code",
   "execution_count": 41,
   "metadata": {},
   "outputs": [
    {
     "data": {
      "image/png": "[encoded data removed]",
      "text/plain": [
       "<Figure size 900x600 with 2 Axes>"
      ]
     },
     "metadata": {},
     "output_type": "display_data"
    }
   ],
   "source": [
    "max_qubits = 50\n",
    "log = True\n",
    "x = range(1,max_qubits)\n",
    "try_func = lambda x: x**2 + 100*int(x/10) # how many tries we should do for a given n\n",
    "\n",
    "fig = plt.figure(figsize=(9,6))\n",
    "ax1 = plt.gca()\n",
    "if log:\n",
    "    lns1 = ax1.plot(x, averages[1:], color='r', label='Average')#, label=f\"$\\chi={max_bond}$\")\n",
    "    lns2 = ax1.plot(x, [np.log2(max(k+[1])) for k in samples[1:]], color='g', label='Maximum')#, label=f\"$\\chi={max_bond}$\")\n",
    "    plt.ylabel(r\"$log(\\chi')$\", fontsize='18')\n",
    "else:\n",
    "    lns1 = ax1.plot(x, [2**k for k in averages[1:]], label='Average')#, label=f\"$\\chi={max_bond}$\")\n",
    "    lns2 = ax1.plot(x, [max(k+[1]) for k in samples[1:]], color='g', label='Maximum')#, label=f\"$\\chi={max_bond}$\")\n",
    "    plt.ylabel(r\"$\\chi'$\", fontsize='18')\n",
    "plt.xlabel(\"Qubits\", fontsize='18')\n",
    "\n",
    "\n",
    "ax1 = plt.gca()\n",
    "ax1.set_yticks([0,1.0,2.0,3,4,5])\n",
    "plt.yticks(fontsize='18')\n",
    "plt.xticks(fontsize='18')\n",
    "# ax1.set_yticks([0,0.5,1.0,1.5,2.0,2.5,3,3.5,4,4.5,5,5.5,6])\n",
    "# ax.spines['left'].set_position(('data', 0))\n",
    "ax2 = ax1.twinx()\n",
    "lns3 = ax2.plot(x, [try_func(n) for n in x], 'c-', label='Samples')\n",
    "plt.yticks(fontsize='18')\n",
    "\n",
    "# added these three lines\n",
    "lns = lns1+lns2+lns3\n",
    "labs = [l.get_label() for l in lns]\n",
    "ax1.legend(lns, labs, loc=0, fontsize='15')\n",
    "plt.tight_layout()\n",
    "plt.show()"
   ]
  },
  {
   "cell_type": "code",
   "execution_count": 24,
   "metadata": {},
   "outputs": [
    {
     "data": {
      "image/png": "[encoded data removed]",
      "text/plain": [
       "<Figure size 300x200 with 1 Axes>"
      ]
     },
     "metadata": {},
     "output_type": "display_data"
    }
   ],
   "source": [
    "from decimal import *\n",
    "from matplotlib import pyplot as plt\n",
    "import numpy as np\n",
    "\n",
    "qubits = 40\n",
    "fig = plt.figure(figsize=(3,2))\n",
    "ax = plt.gca()\n",
    "\n",
    "# plt.xticks(np.arange(xlim[0], xlim[1]+200, 200))\n",
    "counts, bins = np.histogram([np.log2(x) for x in samples[qubits]],4,(0.5,4.5))\n",
    "# plt.stairs(counts, bins, color='b')\n",
    "plt.hist(bins[:-1], bins, weights=counts)\n",
    "plt.xticks([1,2,3,4], size=12)\n",
    "plt.yticks([500,1000], size=12)\n",
    "\n",
    "# plt.bar(samples[40], color='b')\n",
    "# plt.plot(x, [test() for n in x], color='b')\n",
    "plt.xlabel(\"$\\chi$\", size=14)\n",
    "# plt.legend()\n",
    "# plt.tight_layout()\n",
    "plt.show()"
   ]
  },
  {
   "cell_type": "code",
   "execution_count": 5,
   "metadata": {},
   "outputs": [],
   "source": [
    "import pickle\n",
    "\n",
    "dump = 0 # if True it saves, if False it loads\n",
    "\n",
    "if dump:\n",
    "    save_dict = {'samples': samples, 'averages': averages, 'cliff_circuits':cliff_circuits}\n",
    "\n",
    "    with open(f\"data/stab_chi_sim.pickle\", 'wb') as handle:\n",
    "        pickle.dump(save_dict, handle, protocol=pickle.HIGHEST_PROTOCOL)\n",
    "else:\n",
    "    with open(f\"data/stab_chi_sim.pickle\", 'rb') as handle:\n",
    "        save_dict = pickle.load(handle)\n",
    "    samples = save_dict['samples']\n",
    "    averages = save_dict['averages']\n",
    "    cliff_circuits = save_dict['cliff_circuits']\n"
   ]
  },
  {
   "cell_type": "markdown",
   "metadata": {},
   "source": [
    "## Other example experiments"
   ]
  },
  {
   "cell_type": "code",
   "execution_count": null,
   "metadata": {},
   "outputs": [],
   "source": [
    "from time import time\n",
    "import numpy as np"
   ]
  },
  {
   "cell_type": "markdown",
   "metadata": {},
   "source": [
    "As a practical example we can use the circuit from IBM quantum advantage experiment (https://www.nature.com/articles/s41586-023-06096-3) with a reduced amount of qubits"
   ]
  },
  {
   "cell_type": "code",
   "execution_count": null,
   "metadata": {},
   "outputs": [],
   "source": [
    "def apply_ibm_circ(qc,max_qubits,cx_instructions,rot_angle=np.pi/2,trotter_steps=2):\n",
    "    for _ in range(trotter_steps):\n",
    "        for qb in range(qc.num_qubits):\n",
    "            qc.rx(rot_angle,qb)\n",
    "        for conn in cx_instructions:\n",
    "            if conn[0]>=max_qubits or conn[1]>=max_qubits:\n",
    "                continue\n",
    "            qc.rzz(-np.pi/2,conn[0],conn[1])\n",
    "    return qc\n",
    "\n",
    "def apply_ibm_tn(num_qubits,cx_instructions,rot_angle=np.pi/2,trotter_steps=2):\n",
    "    qc_tn = qtn.Circuit(num_qubits)\n",
    "    for _ in range(trotter_steps):\n",
    "        for qb in range(num_qubits):\n",
    "            qc_tn.apply_gate('RX', rot_angle, qb)\n",
    "        for conn in cx_instructions:\n",
    "            if conn[0]>=num_qubits or conn[1]>=num_qubits:\n",
    "                # print('skipped one')\n",
    "                continue\n",
    "            qc_tn.apply_gate('RZZ', -np.pi/2, conn[0], conn[1])\n",
    "    return qc_tn"
   ]
  },
  {
   "cell_type": "markdown",
   "metadata": {},
   "source": [
    "### Value close to 0 (EV ~0)"
   ]
  },
  {
   "cell_type": "code",
   "execution_count": null,
   "metadata": {},
   "outputs": [
    {
     "name": "stdout",
     "output_type": "stream",
     "text": [
      "Creating and composing...\n",
      "Measuring...\n",
      "Calculating with TN to compare...\n",
      "ZZIIIIIIIIIIIII\n",
      "{'reg': 1, 'stats': ((0.5061185129+0j), (0.4938814871+0j)), 'ev': (0.0122370258+0j)}\n",
      "(0.01223702582620291-3.686287386450715e-17j)\n",
      "Creating and composing...\n",
      "Measuring...\n",
      "Calculating with TN to compare...\n",
      "IZZIIIIIIIIIIII\n",
      "{'reg': 1, 'stats': ((0.509047054+0j), (0.490952946+0j)), 'ev': (0.018094108+0j)}\n",
      "(0.01809410795874398+2.8019849895172255e-17j)\n",
      "Creating and composing...\n",
      "Measuring...\n",
      "Calculating with TN to compare...\n",
      "IIZZIIIIIIIIIII\n",
      "{'reg': 1, 'stats': ((0.51201267855+0j), (0.48798732145+0j)), 'ev': (0.0240253571+0j)}\n",
      "(0.024025357137815843-5.925673092401634e-17j)\n",
      "Creating and composing...\n",
      "Measuring...\n",
      "Calculating with TN to compare...\n",
      "IIIZZIIIIIIIIII\n",
      "{'reg': 1, 'stats': ((0.5150155019+0j), (0.4849844981+0j)), 'ev': (0.0300310038-0j)}\n",
      "(0.030031003770795678-6.694855568032397e-18j)\n",
      "Creating and composing...\n",
      "Measuring...\n",
      "Calculating with TN to compare...\n",
      "IIIIZZIIIIIIIII\n",
      "{'reg': 0, 'stats': ((0.5150155019+0j), (0.4849844981+0j)), 'ev': (0.0300310038-0j)}\n",
      "(0.030031003770795702+6.478734815633493e-18j)\n",
      "Creating and composing...\n",
      "Measuring...\n",
      "Calculating with TN to compare...\n",
      "IIIIIZZIIIIIIII\n",
      "{'reg': 1, 'stats': ((0.5150155019+0j), (0.4849844981+0j)), 'ev': (0.0300310038+0j)}\n",
      "(0.030031003770795723-3.3581484960366227e-18j)\n",
      "Creating and composing...\n",
      "Measuring...\n",
      "Calculating with TN to compare...\n",
      "IIIIIIZZIIIIIII\n",
      "{'reg': 1, 'stats': ((0.5150155019+0j), (0.4849844981+0j)), 'ev': (0.0300310038+0j)}\n",
      "(0.030031003770795713+7.209944447028604e-18j)\n",
      "Creating and composing...\n",
      "Measuring...\n",
      "Calculating with TN to compare...\n",
      "IIIIIIIZZIIIIII\n",
      "{'reg': 0, 'stats': ((0.5150155019+0j), (0.4849844981+0j)), 'ev': (0.0300310038-0j)}\n",
      "(0.030031003770795553+1.2543579590951512e-17j)\n",
      "Creating and composing...\n",
      "Measuring...\n",
      "Calculating with TN to compare...\n",
      "IIIIIIIIZZIIIII\n",
      "{'reg': 0, 'stats': ((0.5150155019+0j), (0.4849844981+0j)), 'ev': (0.0300310038+0j)}\n",
      "(0.030031003770795595+2.767567941370901e-19j)\n",
      "Creating and composing...\n",
      "Measuring...\n",
      "Calculating with TN to compare...\n",
      "IIIIIIIIIZZIIII\n",
      "{'reg': 0, 'stats': ((0.51201267855+0j), (0.48798732145+0j)), 'ev': (0.0240253571+0j)}\n",
      "(0.02402535713781586+1.3877787807814457e-17j)\n",
      "Creating and composing...\n",
      "Measuring...\n",
      "Calculating with TN to compare...\n",
      "IIIIIIIIIIZZIII\n",
      "{'reg': 1, 'stats': ((0.509047054+0j), (0.490952946+0j)), 'ev': (0.018094108-0j)}\n",
      "(0.018094107958743916+3.247313001421081e-17j)\n",
      "Creating and composing...\n",
      "Measuring...\n",
      "Calculating with TN to compare...\n",
      "IIIIIIIIIIIZZII\n",
      "{'reg': 0, 'stats': ((0.5061185129+0j), (0.4938814871+0j)), 'ev': (0.0122370258-0j)}\n",
      "(0.012237025826202853+6.839689691690107e-18j)\n",
      "Creating and composing...\n",
      "Measuring...\n",
      "Calculating with TN to compare...\n",
      "IIIIIIIIIIIIZZI\n",
      "{'reg': 1, 'stats': ((0.503115344+0j), (0.496884656+0j)), 'ev': (0.006230688-0j)}\n",
      "(0.00623068797109265+7.392036259339303e-17j)\n",
      "Creating and composing...\n",
      "Measuring...\n",
      "Calculating with TN to compare...\n",
      "IIIIIIIIIIIIIZZ\n",
      "{'reg': 1, 'stats': ((0.50307791485+0j), (0.49692208515+0j)), 'ev': (0.0061558297+0j)}\n",
      "(0.00615582970243107+9.594952122554922e-21j)\n"
     ]
    }
   ],
   "source": [
    "# Big non-stabilizer test\n",
    "max_qubits = 15\n",
    "ev_checks = { f\"z{i}\" : 'I'*i + 'ZZ' + 'I'*(max_qubits-i-2) for i in range(max_qubits-1)}\n",
    "\n",
    "mode = 'tn'\n",
    "# max_bond = 2**16\n",
    "trotter_steps = 5\n",
    "rot_angle = 0.95*np.pi/2 # np.pi/2\n",
    "compare = True\n",
    "\n",
    "qc_0 = QuantumCircuit(max_qubits)\n",
    "\n",
    "cx_instructions = connectivity_kyiv()\n",
    "# cx_instructions = [[i,i+1] for i in range(max_qubits-1)]\n",
    "\n",
    "# to compare\n",
    "qc = QuantumCircuit(max_qubits,max_qubits)\n",
    "qc = apply_ibm_circ(qc,max_qubits,cx_instructions,rot_angle,trotter_steps)\n",
    "\n",
    "for ev in ev_checks:\n",
    "    print('Creating and composing...')\n",
    "    test_temp = gen_clifford(qc_0,mode=mode).compose(qc)\n",
    "    print('Measuring...')\n",
    "    test_temp.measure_obs(ev_checks[ev])                                        \n",
    "\n",
    "    if compare:\n",
    "        print('Calculating with TN to compare...')\n",
    "        qc_tn = apply_ibm_tn(max_qubits,cx_instructions,rot_angle,trotter_steps)\n",
    "        # psi_copy = qc_tn.psi.copy().contract(optimize='random-greedy')\n",
    "        expec = qu.pauli(ev_checks[ev][0])\n",
    "        where = [0,]\n",
    "        for i,ch in enumerate(ev_checks[ev][1:]):\n",
    "            if ch!='I':\n",
    "                expec = expec & qu.pauli(ch)\n",
    "                where.append(i+1)\n",
    "            # if ch!='I': qc_tn.apply_gate(ch,i)\n",
    "        # test_temp.results_real = {ev_checks[ev] : psi_copy.conj() @ qc_tn.psi.contract(optimize='random-greedy')}\n",
    "        test_temp.results_real = {ev_checks[ev] : qc_tn.local_expectation(expec, where=(*where,))}\n",
    "\n",
    "    for t in test_temp.results:\n",
    "        print(t)\n",
    "        print(test_temp.results[t])\n",
    "        if compare: \n",
    "            print(test_temp.results_real[t])"
   ]
  },
  {
   "cell_type": "markdown",
   "metadata": {},
   "source": [
    "### Value close to 1 (EV ~1)"
   ]
  },
  {
   "cell_type": "code",
   "execution_count": null,
   "metadata": {},
   "outputs": [
    {
     "name": "stdout",
     "output_type": "stream",
     "text": [
      "Creating and composing...\n",
      "Measuring...\n",
      "Calculating with TN to compare...\n",
      "ZZIIIIIIIIIIIII\n",
      "{'reg': 0, 'stats': (0.9891681701, 0.010831829899999978), 'ev': 0.9783363402}\n",
      "(0.9783363386042374+1.5800913496982975e-16j)\n",
      "Creating and composing...\n",
      "Measuring...\n",
      "Calculating with TN to compare...\n",
      "IZZIIIIIIIIIIII\n",
      "{'reg': 0, 'stats': ((0.98941843565+0j), (0.010581564350000017+0j)), 'ev': (0.9788368713-0j)}\n",
      "(0.9788368686974653-4.118759484008084e-16j)\n",
      "Creating and composing...\n",
      "Measuring...\n",
      "Calculating with TN to compare...\n",
      "IIZZIIIIIIIIIII\n",
      "{'reg': 0, 'stats': ((0.9894046624+0j), (0.010595337599999977+0j)), 'ev': (0.9788093248-0j)}\n",
      "(0.9788093249754825-1.6762361818411427e-17j)\n",
      "Creating and composing...\n",
      "Measuring...\n",
      "Calculating with TN to compare...\n",
      "IIIZZIIIIIIIIII\n",
      "{'reg': 0, 'stats': ((0.98940483995+0j), (0.010595160049999996+0j)), 'ev': (0.9788096799-0j)}\n",
      "(0.9788096748395853-2.11467320021183e-16j)\n",
      "Creating and composing...\n",
      "Measuring...\n",
      "Calculating with TN to compare...\n",
      "IIIIZZIIIIIIIII\n",
      "{'reg': 0, 'stats': ((0.9894048396499999+0j), (0.010595160350000021+0j)), 'ev': (0.9788096793-0j)}\n",
      "(0.9788096748395865+9.173639999417502e-17j)\n",
      "Creating and composing...\n",
      "Measuring...\n",
      "Calculating with TN to compare...\n",
      "IIIIIZZIIIIIIII\n",
      "{'reg': 0, 'stats': ((0.9894048397499999+0j), (0.010595160250000013+0j)), 'ev': (0.9788096795-0j)}\n",
      "(0.9788096748395851-1.54988906301684e-16j)\n",
      "Creating and composing...\n",
      "Measuring...\n",
      "Calculating with TN to compare...\n",
      "IIIIIIZZIIIIIII\n",
      "{'reg': 0, 'stats': ((0.9894048397499999+0j), (0.010595160250000013+0j)), 'ev': (0.9788096795-0j)}\n",
      "(0.9788096748395869-6.116206536441589e-17j)\n",
      "Creating and composing...\n",
      "Measuring...\n",
      "Calculating with TN to compare...\n",
      "IIIIIIIZZIIIIII\n",
      "{'reg': 0, 'stats': ((0.9894048397499999+0j), (0.010595160250000013+0j)), 'ev': (0.9788096795-0j)}\n",
      "(0.9788096748395859+7.632044561767987e-17j)\n",
      "Creating and composing...\n",
      "Measuring...\n",
      "Calculating with TN to compare...\n",
      "IIIIIIIIZZIIIII\n",
      "{'reg': 0, 'stats': ((0.9894048397999999+0j), (0.010595160200000009+0j)), 'ev': (0.9788096796-0j)}\n",
      "(0.9788096748395849+1.7215434333794327e-16j)\n",
      "Creating and composing...\n",
      "Measuring...\n",
      "Calculating with TN to compare...\n",
      "IIIIIIIIIZZIIII\n",
      "{'reg': 0, 'stats': ((0.98940466505+0j), (0.01059533494999998+0j)), 'ev': (0.9788093301+0j)}\n",
      "(0.9788093249754825+7.00244671115419e-17j)\n",
      "Creating and composing...\n",
      "Measuring...\n",
      "Calculating with TN to compare...\n",
      "IIIIIIIIIIZZIII\n",
      "{'reg': 0, 'stats': ((0.98941843615+0j), (0.010581563849999975+0j)), 'ev': (0.9788368723+0j)}\n",
      "(0.9788368686974646+4.361811631040063e-18j)\n",
      "Creating and composing...\n",
      "Measuring...\n",
      "Calculating with TN to compare...\n",
      "IIIIIIIIIIIZZII\n",
      "{'reg': 0, 'stats': ((0.98916816985+0j), (0.01083183015+0j)), 'ev': (0.9783363397+0j)}\n",
      "(0.9783363386042327+1.8252054070369312e-16j)\n",
      "Creating and composing...\n",
      "Measuring...\n",
      "Calculating with TN to compare...\n",
      "IIIIIIIIIIIIZZI\n",
      "{'reg': 0, 'stats': ((0.9883340442499999+0j), (0.011665955750000012+0j)), 'ev': (0.9766680885-0j)}\n",
      "(0.9766680865362461+1.749971756854461e-16j)\n",
      "Creating and composing...\n",
      "Measuring...\n",
      "Calculating with TN to compare...\n",
      "IIIIIIIIIIIIIZZ\n",
      "{'reg': 0, 'stats': (0.9877641298, 0.012235870199999999), 'ev': 0.9755282596}\n",
      "(0.9755282581475722+2.715174981014611e-17j)\n"
     ]
    }
   ],
   "source": [
    "# Big non-stabilizer test\n",
    "max_qubits = 15\n",
    "ev_checks = { f\"z{i}\" : 'I'*i + 'ZZ' + 'I'*(max_qubits-i-2) for i in range(max_qubits-1)}\n",
    "\n",
    "mode = 'tn'\n",
    "# max_bond = 2**16\n",
    "trotter_steps = 5\n",
    "rot_angle = 0.1*np.pi/2 # np.pi/2\n",
    "compare = True\n",
    "\n",
    "qc_0 = QuantumCircuit(max_qubits)\n",
    "\n",
    "cx_instructions = connectivity_kyiv()\n",
    "# cx_instructions = [[i,i+1] for i in range(max_qubits-1)]\n",
    "\n",
    "# to compare\n",
    "qc = QuantumCircuit(max_qubits,max_qubits)\n",
    "qc = apply_ibm_circ(qc,max_qubits,cx_instructions,rot_angle,trotter_steps)\n",
    "\n",
    "for ev in ev_checks:\n",
    "    print('Creating and composing...')\n",
    "    test_temp = gen_clifford(qc_0,mode=mode).compose(qc)\n",
    "    print('Measuring...')\n",
    "    test_temp.measure_obs(ev_checks[ev])                                        \n",
    "\n",
    "    if compare:\n",
    "        print('Calculating with TN to compare...')\n",
    "        qc_tn = apply_ibm_tn(max_qubits,cx_instructions,rot_angle,trotter_steps)\n",
    "        # psi_copy = qc_tn.psi.copy().contract(optimize='random-greedy')\n",
    "        expec = qu.pauli(ev_checks[ev][0])\n",
    "        where = [0,]\n",
    "        for i,ch in enumerate(ev_checks[ev][1:]):\n",
    "            if ch!='I':\n",
    "                expec = expec & qu.pauli(ch)\n",
    "                where.append(i+1)\n",
    "            # if ch!='I': qc_tn.apply_gate(ch,i)\n",
    "        # test_temp.results_real = {ev_checks[ev] : psi_copy.conj() @ qc_tn.psi.contract(optimize='random-greedy')}\n",
    "        test_temp.results_real = {ev_checks[ev] : qc_tn.local_expectation(expec, where=(*where,))}\n",
    "\n",
    "    for t in test_temp.results:\n",
    "        print(t)\n",
    "        print(test_temp.results[t])\n",
    "        if compare: \n",
    "            print(test_temp.results_real[t])"
   ]
  },
  {
   "cell_type": "markdown",
   "metadata": {},
   "source": [
    "### Value at 1 (EV=1, Stabilizer state)"
   ]
  },
  {
   "cell_type": "code",
   "execution_count": null,
   "metadata": {},
   "outputs": [
    {
     "name": "stdout",
     "output_type": "stream",
     "text": [
      "Calculating with TN to compare...\n",
      "measuring\n",
      "TN calculation took 40.406938314437866\n",
      "Stab computation starting...\n",
      "Using max_bond=4:\n",
      "Creating and composing...\n",
      "Measuring...\n",
      "IIIIIIIIZYZYZYZYZYZIIIIIIIIIIIIII\n",
      "{'reg': 0, 'stats': (1.0, 0.0), 'ev': 1.0}\n",
      "(0.9999999999999738+0j)\n",
      "This bond dim took 0.07924032211303711\n"
     ]
    }
   ],
   "source": [
    "# Big non-stabilizer test\n",
    "max_qubits = 33\n",
    "ev_checks = {\n",
    "    # 'xyz_l' : 'I'*37 + 'XZIZXZ' + 'I'*(52-43) + 'XIIIXXXIIIXZ' + 'I'*(72-64) + 'ZIIYIIIXZ' + 'I'*(90-81) + 'ZZ' + 'I'*(127-92),\n",
    "    # 'z': 'IIZIZIZ' + 'I'*(101-7) + 'ZIZIZ' + 'I'*(127-106),\n",
    "}\n",
    "\n",
    "mode = 'tn'\n",
    "# max_bonds = [2**i for i in range(1,16)] \n",
    "max_bonds = [2**2]\n",
    "results = []\n",
    "trotter_steps = 5\n",
    "rot_angle = np.pi/2 # np.pi/2\n",
    "compare = True\n",
    "real = True\n",
    "\n",
    "if real:\n",
    "    cx_instructions = connectivity_kyiv()\n",
    "    ev_checks['xyz_s'] = 'IIIIIIIIZYIIZXIIIZIIIIIIIIIIZXYXZ'+'I'*(max_qubits-33)\n",
    "else:\n",
    "    cx_instructions = [[i,i+1] for i in range(max_qubits-1)]\n",
    "    ev_checks['xyz_s'] = 'IIIIIIIIZYZYZYZYZYZIIIIIIIIIIIIII'+'I'*(max_qubits-33)\n",
    "    \n",
    "qc_0 = QuantumCircuit(max_qubits,33)\n",
    "\n",
    "start = time()\n",
    "results_real = {}\n",
    "if compare:\n",
    "    qc_tn = qtn.Circuit(max_qubits)\n",
    "    print('Calculating with TN to compare...')\n",
    "    for _ in range(trotter_steps):\n",
    "        for qb in range(max_qubits):\n",
    "            qc_tn.apply_gate('RX', rot_angle, qb)\n",
    "        for conn in cx_instructions:\n",
    "            if conn[0]>=max_qubits or conn[1]>=max_qubits:\n",
    "                # print('skipped one')\n",
    "                continue\n",
    "            qc_tn.apply_gate('RZZ', -np.pi/2, conn[0], conn[1])\n",
    "    \n",
    "    for ev in ev_checks:\n",
    "        expec = qu.pauli(ev_checks[ev][0])\n",
    "        where = [0,]\n",
    "        for i,ch in enumerate(ev_checks[ev][1:]):\n",
    "            if ch!='I':\n",
    "                expec = expec & qu.pauli(ch)\n",
    "                where.append(i+1)\n",
    "        print('measuring')\n",
    "        results_real[ev_checks[ev]] = qc_tn.local_expectation(expec, where=(*where,))\n",
    "print(f\"TN calculation took {time()-start}\")\n",
    "start = time()\n",
    "print('Stab computation starting...')\n",
    "for max_bond in max_bonds:\n",
    "    print(f\"Using max_bond={max_bond}:\")\n",
    "    qc = QuantumCircuit(max_qubits,33)\n",
    "    for _ in range(trotter_steps):\n",
    "        for qb in range(qc.num_qubits):\n",
    "            qc.rx(rot_angle,qb)\n",
    "        for conn in cx_instructions:\n",
    "            if conn[0]>=max_qubits or conn[1]>=max_qubits:\n",
    "                # print('skipped one')\n",
    "                continue\n",
    "            qc.rzz(-np.pi/2,conn[0],conn[1])\n",
    "\n",
    "    for ev in ev_checks:\n",
    "        print('Creating and composing...')\n",
    "        test_temp = gen_clifford(qc_0,mode=mode,max_bond=max_bond).compose(qc)\n",
    "        print('Measuring...')\n",
    "        results.append(test_temp.measure_obs(ev_checks[ev]))\n",
    "\n",
    "        for t in test_temp.results:\n",
    "            print(t)\n",
    "            print(test_temp.results[t])\n",
    "            if compare: \n",
    "                print(results_real[t])\n",
    "    print(f\"This bond dim took {time()-start}\")   "
   ]
  }
 ],
 "metadata": {
  "kernelspec": {
   "display_name": "stab",
   "language": "python",
   "name": "python3"
  },
  "language_info": {
   "codemirror_mode": {
    "name": "ipython",
    "version": 3
   },
   "file_extension": ".py",
   "mimetype": "text/x-python",
   "name": "python",
   "nbconvert_exporter": "python",
   "pygments_lexer": "ipython3",
   "version": "3.11.9"
  },
  "orig_nbformat": 4
 },
 "nbformat": 4,
 "nbformat_minor": 2
}
